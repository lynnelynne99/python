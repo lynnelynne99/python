{
 "cells": [
  {
   "cell_type": "markdown",
   "metadata": {
    "colab_type": "text",
    "id": "view-in-github"
   },
   "source": [
    "<a href=\"https://colab.research.google.com/github/lynnelynne99/python/blob/main/03_%ED%8C%8C%EC%9D%B4%EC%8D%AC_%EC%84%B8%ED%8A%B8_%EB%94%95%EC%85%94%EB%84%88%EB%A6%AC.ipynb\" target=\"_parent\"><img src=\"https://colab.research.google.com/assets/colab-badge.svg\" alt=\"Open In Colab\"/></a>"
   ]
  },
  {
   "cell_type": "markdown",
   "metadata": {
    "id": "KgAFjs7iUREl"
   },
   "source": [
    "# 시퀀스, 집합형 자료구조"
   ]
  },
  {
   "cell_type": "markdown",
   "metadata": {
    "id": "tD5MUfkXfHjz"
   },
   "source": [
    "| 분류             | 타입                 | 특징                                   | 예시                     |\n",
    "| ---------------- | -------------------- | -------------------------------------- | ------------------------ |\n",
    "| 시퀀스(sequence) | 리스트(list)         | 순서가 있고, 가변(mutable)             | [1, 2, 3]                |\n",
    "| 시퀀스(sequence) | 튜플(tuple)          | 순서가 있고, 불변(immutable), read only           | (1, 2, 3)                |\n",
    "| 세트(set)        | 세트(set)            | 순서가 없고, 중복을 허용하지 않음      | {1, 2, 3}                |\n",
    "| 맵(map)          | 딕셔너리(dictionary) | 순서가 없고, key/value 쌍으로 이루어짐 | {'a': 1, 'b': 2, 'c': 3} |"
   ]
  },
  {
   "cell_type": "markdown",
   "metadata": {
    "id": "vCdKOsCpZNBi"
   },
   "source": [
    "## 세트(set)\n",
    "\n",
    "- 세트는 순서가 보장 되지 않습니다.\n",
    "- 세트는 요소의 **중복을 허용하지 않습니다.**\n",
    "- 세트는 **{}**를 활용하여 생성할 수 있습니다."
   ]
  },
  {
   "cell_type": "markdown",
   "metadata": {
    "id": "AahZw6tVGaBa"
   },
   "source": [
    "### 생성"
   ]
  },
  {
   "cell_type": "code",
   "execution_count": null,
   "metadata": {
    "id": "jIWM7VJjZMuH"
   },
   "outputs": [],
   "source": [
    "myset = set()\n",
    "myset"
   ]
  },
  {
   "cell_type": "code",
   "execution_count": null,
   "metadata": {
    "id": "ANJhYZ-bHTjx"
   },
   "outputs": [],
   "source": [
    "myset = set([1, 1, 1, 2, 2, 2, 3, 3, 3])\n",
    "myset"
   ]
  },
  {
   "cell_type": "code",
   "execution_count": null,
   "metadata": {
    "id": "ryu7ce2zHYZj"
   },
   "outputs": [],
   "source": [
    "myset = set((1, 1, 1, 2, 3, 3, 4, 5, 5, 5))\n",
    "myset"
   ]
  },
  {
   "cell_type": "code",
   "execution_count": null,
   "metadata": {
    "id": "FZq6RNxBfHj2"
   },
   "outputs": [],
   "source": [
    "myset = {1, 1, 1, 2, 2, 2, 3, 3, 3}\n",
    "myset"
   ]
  },
  {
   "cell_type": "markdown",
   "metadata": {
    "id": "N5_9VPePHgq-"
   },
   "source": [
    "### add() : 값 추가\n",
    "\n",
    "- set에 요소를 추가합니다."
   ]
  },
  {
   "cell_type": "markdown",
   "metadata": {
    "id": "KxtbPpKqfHj3"
   },
   "source": [
    "빈 set를 생성합니다."
   ]
  },
  {
   "cell_type": "code",
   "execution_count": null,
   "metadata": {
    "id": "ueu2JUWsHovW"
   },
   "outputs": [],
   "source": [
    "myset = set()"
   ]
  },
  {
   "cell_type": "markdown",
   "metadata": {
    "id": "rRFwrN3zfHj3"
   },
   "source": [
    "add() 로 요소를 추가합니다."
   ]
  },
  {
   "cell_type": "code",
   "execution_count": null,
   "metadata": {
    "id": "9hiHrECzZUQH"
   },
   "outputs": [],
   "source": [
    "myset.add(1)\n",
    "myset.add(2)\n",
    "myset.add(3)\n",
    "\n",
    "myset.add(1)\n",
    "myset.add(2)\n",
    "myset.add(3)\n",
    "\n",
    "myset.add(1)\n",
    "myset.add(2)\n",
    "myset.add(3)"
   ]
  },
  {
   "cell_type": "markdown",
   "metadata": {
    "id": "K6ObtlExfHj4"
   },
   "source": [
    "요소를 중복하여 추가하였지만, 중복을 허용하지 않는 set의 특성상 {1, 2, 3} 으로 **중복이 제거된 요소만 출력**됩니다."
   ]
  },
  {
   "cell_type": "code",
   "execution_count": null,
   "metadata": {
    "id": "QNQ7synrZUIf"
   },
   "outputs": [],
   "source": [
    "myset"
   ]
  },
  {
   "cell_type": "markdown",
   "metadata": {
    "id": "LTrMWdxJHrF8"
   },
   "source": [
    "### update() : 여러개 값 추가\n",
    "\n",
    "- 여러개의 값을 한꺼번에 추가하고자 할 때는 update() 메서드를 사용합니다."
   ]
  },
  {
   "cell_type": "code",
   "execution_count": null,
   "metadata": {
    "id": "8h1acAmYfHj5"
   },
   "outputs": [],
   "source": [
    "myset = {1, 2, 3}"
   ]
  },
  {
   "cell_type": "markdown",
   "metadata": {
    "id": "ly4q5wIMfHj5"
   },
   "source": [
    "list의 요소들을 **한꺼번에 update**"
   ]
  },
  {
   "cell_type": "code",
   "execution_count": null,
   "metadata": {
    "id": "dRioIyqSHwwA"
   },
   "outputs": [],
   "source": [
    "myset.update([4, 5, 6])\n",
    "myset"
   ]
  },
  {
   "cell_type": "markdown",
   "metadata": {
    "id": "gCULkhkIfHj6"
   },
   "source": [
    "tuple의 요소들을 **한꺼번에 update**"
   ]
  },
  {
   "cell_type": "code",
   "execution_count": null,
   "metadata": {
    "id": "s1FiTqAJfHj6"
   },
   "outputs": [],
   "source": [
    "myset.update((7, 8, 9))\n",
    "myset"
   ]
  },
  {
   "cell_type": "markdown",
   "metadata": {
    "id": "SUmO-FdxfHj6"
   },
   "source": [
    "set의 요소들을 **한꺼번에 update**"
   ]
  },
  {
   "cell_type": "code",
   "execution_count": null,
   "metadata": {
    "id": "ZbCKpXAlfHj6"
   },
   "outputs": [],
   "source": [
    "myset.update({10, 11, 12})\n",
    "myset"
   ]
  },
  {
   "cell_type": "markdown",
   "metadata": {
    "id": "XMa9hfRvH4zs"
   },
   "source": [
    "### remove() : 값 제거\n",
    "\n",
    "- 단일 요소를 제거합니다."
   ]
  },
  {
   "cell_type": "code",
   "execution_count": null,
   "metadata": {
    "id": "ya6F_1KrH7fp"
   },
   "outputs": [],
   "source": [
    "myset = {1, 2, 3, 4, 5}"
   ]
  },
  {
   "cell_type": "code",
   "execution_count": null,
   "metadata": {
    "id": "QDfJLU5JH576"
   },
   "outputs": [],
   "source": [
    "myset.remove(2)\n",
    "myset"
   ]
  },
  {
   "cell_type": "markdown",
   "metadata": {
    "id": "47KBBNyWICQ-"
   },
   "source": [
    "### 교집합 (intersection)\n",
    "\n",
    "- 교집합은 집합 A와 B가 주어졌을 때 **공통된 요소**를 말합니다.\n",
    "- `&` 기호나 `intersection()` 메서드를 활용하여 교집합을 구할 수 있습니다."
   ]
  },
  {
   "cell_type": "code",
   "execution_count": null,
   "metadata": {
    "id": "jBA3M2H6IFZF"
   },
   "outputs": [],
   "source": [
    "a = {1, 2, 3, 4, 5}\n",
    "b = {3, 4, 5, 6, 7}"
   ]
  },
  {
   "cell_type": "code",
   "execution_count": null,
   "metadata": {
    "id": "X5a3JY70IJoU"
   },
   "outputs": [],
   "source": [
    "a & b"
   ]
  },
  {
   "cell_type": "code",
   "execution_count": null,
   "metadata": {
    "id": "41PhL6uJILIc"
   },
   "outputs": [],
   "source": [
    "a.intersection(b)"
   ]
  },
  {
   "cell_type": "markdown",
   "metadata": {
    "id": "NyG_7NRtINeL"
   },
   "source": [
    "### 합집합 (union)\n",
    "\n",
    "- 합집합은 집합 A와 B가 주어졌을 때 집합 A, B 요소 모두를 포함하는 것을 말합니다.\n",
    "- `|`기호나 `union()` 메서드를 활용하여 합집합을 구할 수 있습니다."
   ]
  },
  {
   "cell_type": "code",
   "execution_count": null,
   "metadata": {
    "id": "H_aTMCt5IP80"
   },
   "outputs": [],
   "source": [
    "a = {1, 2, 3, 4, 5}\n",
    "b = {3, 4, 5, 6, 7}"
   ]
  },
  {
   "cell_type": "code",
   "execution_count": null,
   "metadata": {
    "id": "FBDVTV0dIRPa"
   },
   "outputs": [],
   "source": [
    "a | b"
   ]
  },
  {
   "cell_type": "code",
   "execution_count": null,
   "metadata": {
    "id": "0QY-vz1aISCo"
   },
   "outputs": [],
   "source": [
    "a.union(b)"
   ]
  },
  {
   "cell_type": "markdown",
   "metadata": {
    "id": "yRCAvdyUITN8"
   },
   "source": [
    "### 차집합 (difference)\n",
    "\n",
    "- 두 집합에서, 하나의 집합에 포함되고 다른 집합에는 포함되지 않는 모든 원소의 집합.\n",
    "- `-`연산자를 활용하거나 `difference()` 메서드를 활용하여 구할 수 있습니다."
   ]
  },
  {
   "cell_type": "code",
   "execution_count": null,
   "metadata": {
    "id": "VPFeTf2uIZ4M"
   },
   "outputs": [],
   "source": [
    "a = {1, 2, 3, 4, 5}\n",
    "b = {3, 4, 5, 6, 7}"
   ]
  },
  {
   "cell_type": "markdown",
   "metadata": {
    "id": "YO2wQMsDfHj9"
   },
   "source": [
    "a 집합에서 b 집합을 뺀 차집합"
   ]
  },
  {
   "cell_type": "code",
   "execution_count": null,
   "metadata": {
    "id": "TmmXfjyQIV1v"
   },
   "outputs": [],
   "source": [
    "a - b"
   ]
  },
  {
   "cell_type": "code",
   "execution_count": null,
   "metadata": {
    "id": "0cAclQ7ffHj-"
   },
   "outputs": [],
   "source": [
    "a.difference(b)"
   ]
  },
  {
   "cell_type": "markdown",
   "metadata": {
    "id": "u627p4LnfHj-"
   },
   "source": [
    "b 집합에서 a 집합을 뺀 차집합"
   ]
  },
  {
   "cell_type": "code",
   "execution_count": null,
   "metadata": {
    "id": "ZBt4ecBMIXTF"
   },
   "outputs": [],
   "source": [
    "b - a"
   ]
  },
  {
   "cell_type": "code",
   "execution_count": null,
   "metadata": {
    "id": "bDto9wNEIY6l"
   },
   "outputs": [],
   "source": [
    "b.difference(a)"
   ]
  },
  {
   "cell_type": "markdown",
   "metadata": {
    "id": "uZbztgcbJKtH"
   },
   "source": [
    "### 집합의 타입 변환"
   ]
  },
  {
   "cell_type": "markdown",
   "metadata": {
    "id": "3O-164mSI3Di"
   },
   "source": [
    "### set를 list로 변환"
   ]
  },
  {
   "cell_type": "code",
   "execution_count": null,
   "metadata": {
    "id": "sbP80B8zI5Md"
   },
   "outputs": [],
   "source": [
    "a = {1, 2, 3, 4, 5}"
   ]
  },
  {
   "cell_type": "code",
   "execution_count": null,
   "metadata": {
    "id": "Tb8NZ8A2I6ve"
   },
   "outputs": [],
   "source": [
    "type(a)"
   ]
  },
  {
   "cell_type": "code",
   "execution_count": null,
   "metadata": {
    "id": "U3Kkfo2BI7dp"
   },
   "outputs": [],
   "source": [
    "b = list(a)"
   ]
  },
  {
   "cell_type": "code",
   "execution_count": null,
   "metadata": {
    "id": "vwab1DqgI8wc"
   },
   "outputs": [],
   "source": [
    "b"
   ]
  },
  {
   "cell_type": "code",
   "execution_count": null,
   "metadata": {
    "id": "7TBYxXk4I9k2"
   },
   "outputs": [],
   "source": [
    "type(b)"
   ]
  },
  {
   "cell_type": "markdown",
   "metadata": {
    "id": "7uhFVFrcI-A0"
   },
   "source": [
    "### list를 set로 변환\n",
    "\n",
    "- 중복을 제거할 때 많이 활용합니다."
   ]
  },
  {
   "cell_type": "code",
   "execution_count": null,
   "metadata": {
    "id": "8OD92-JeJBRn"
   },
   "outputs": [],
   "source": [
    "a = [1, 1, 1, 2, 2, 2, 3, 3, 3]"
   ]
  },
  {
   "cell_type": "code",
   "execution_count": null,
   "metadata": {
    "id": "RwKir-0uJDvY"
   },
   "outputs": [],
   "source": [
    "a"
   ]
  },
  {
   "cell_type": "code",
   "execution_count": null,
   "metadata": {
    "id": "QLGx1LZUJEFF"
   },
   "outputs": [],
   "source": [
    "type(a)"
   ]
  },
  {
   "cell_type": "code",
   "execution_count": null,
   "metadata": {
    "id": "v-Z_v4AKJE07"
   },
   "outputs": [],
   "source": [
    "b = set(a)"
   ]
  },
  {
   "cell_type": "code",
   "execution_count": null,
   "metadata": {
    "id": "BHTOs9esJFs5"
   },
   "outputs": [],
   "source": [
    "b"
   ]
  },
  {
   "cell_type": "code",
   "execution_count": null,
   "metadata": {
    "id": "BaXk-SDEJHIL"
   },
   "outputs": [],
   "source": [
    "type(b)"
   ]
  },
  {
   "cell_type": "markdown",
   "metadata": {
    "id": "5WSZn4cffHkC"
   },
   "source": [
    "b를 다시 list 자료형으로 변환"
   ]
  },
  {
   "cell_type": "code",
   "execution_count": null,
   "metadata": {
    "id": "WFYXMU1FfHkC"
   },
   "outputs": [],
   "source": [
    "b = list(b)\n",
    "b"
   ]
  },
  {
   "cell_type": "markdown",
   "metadata": {
    "id": "Pp9mxa8PfHkC"
   },
   "source": [
    "### 연습문제 1"
   ]
  },
  {
   "cell_type": "code",
   "execution_count": null,
   "metadata": {
    "id": "SZp-Wzw2fHkD"
   },
   "outputs": [],
   "source": [
    "sample1 = {1, 2, 3, 4, 5}\n",
    "sample2 = {2, 4, 5, 6, 7}\n",
    "\n",
    "print(f'sample1: {sample1}')\n",
    "print(f'sample2: {sample2}')"
   ]
  },
  {
   "cell_type": "markdown",
   "metadata": {
    "id": "qqKOpZzefHkD"
   },
   "source": [
    "`sample1` 에 6를 추가합니다."
   ]
  },
  {
   "cell_type": "code",
   "execution_count": null,
   "metadata": {
    "id": "3I_SEqQcfHkD"
   },
   "outputs": [],
   "source": [
    "# 코드를 입력해 주세요\n"
   ]
  },
  {
   "cell_type": "markdown",
   "metadata": {
    "id": "bFSpaVHifHkD"
   },
   "source": [
    "<p><strong>[출력 결과]</strong></p><pre>{1, 2, 3, 4, 5, 6}</pre>"
   ]
  },
  {
   "cell_type": "markdown",
   "metadata": {
    "id": "wLThMK_kfHkE"
   },
   "source": [
    "`sample2`에 2를 제거합니다."
   ]
  },
  {
   "cell_type": "code",
   "execution_count": null,
   "metadata": {
    "id": "rtQrVlbKfHkE"
   },
   "outputs": [],
   "source": [
    "# 코드를 입력해 주세요\n"
   ]
  },
  {
   "cell_type": "markdown",
   "metadata": {
    "id": "Wv3VEdADfHkE"
   },
   "source": [
    "<p><strong>[출력 결과]</strong></p><pre>{4, 5, 6, 7}</pre>"
   ]
  },
  {
   "cell_type": "markdown",
   "metadata": {
    "id": "9l-EIh0FfHkE"
   },
   "source": [
    "`sample1`과 `sample2`의 **교집합**을 출력합니다."
   ]
  },
  {
   "cell_type": "code",
   "execution_count": null,
   "metadata": {
    "id": "TbBwjFkdfHkE"
   },
   "outputs": [],
   "source": [
    "# 코드를 입력해 주세요\n"
   ]
  },
  {
   "cell_type": "markdown",
   "metadata": {
    "id": "h_t_ozKLfHkF"
   },
   "source": [
    "<p><strong>[출력 결과]</strong></p><pre>{4, 5, 6}</pre>"
   ]
  },
  {
   "cell_type": "markdown",
   "metadata": {
    "id": "7WewctyofHkF"
   },
   "source": [
    "`sample1`과 `sample2`의 **합집합**을 출력합니다."
   ]
  },
  {
   "cell_type": "code",
   "execution_count": null,
   "metadata": {
    "id": "50sBa_uefHkF"
   },
   "outputs": [],
   "source": [
    "# 코드를 입력해 주세요\n"
   ]
  },
  {
   "cell_type": "markdown",
   "metadata": {
    "id": "tjQdo5lwfHkF"
   },
   "source": [
    "<p><strong>[출력 결과]</strong></p><pre>{1, 2, 3, 4, 5, 6, 7}</pre>"
   ]
  },
  {
   "cell_type": "markdown",
   "metadata": {
    "id": "-yZAS5SKfHkF"
   },
   "source": [
    "`sample1`과 `sample2`의 **차집합**을 활용하여 다음과 같이 출력합니다."
   ]
  },
  {
   "cell_type": "code",
   "execution_count": null,
   "metadata": {
    "id": "bFJgIHXLfHkG"
   },
   "outputs": [],
   "source": [
    "# 코드를 입력해 주세요\n"
   ]
  },
  {
   "cell_type": "markdown",
   "metadata": {
    "id": "KX9J-qMCfHkG"
   },
   "source": [
    "<p><strong>[출력 결과]</strong></p><pre>{1, 2, 3}</pre>"
   ]
  },
  {
   "cell_type": "markdown",
   "metadata": {
    "id": "24pLdsBX3PXx"
   },
   "source": [
    "### 연습문제 2\n",
    "\n",
    "- 다음 리스트에서 중복된 항목을 제거하세요\n",
    "- 최종 출력 값은 list 형태로 출력하세요"
   ]
  },
  {
   "cell_type": "code",
   "execution_count": null,
   "metadata": {
    "id": "6ouc2JmXfHkG"
   },
   "outputs": [],
   "source": [
    "numList = [1, 3, 2, 3, 7, 6, 8, 4, 10, 5, 3, 8, 9]"
   ]
  },
  {
   "cell_type": "code",
   "execution_count": null,
   "metadata": {
    "id": "lLEILpf03PXx"
   },
   "outputs": [],
   "source": [
    "# 코드를 입력해 주세요\n"
   ]
  },
  {
   "cell_type": "markdown",
   "metadata": {
    "id": "PCXKsaAUfHkH"
   },
   "source": [
    "<p><strong>[출력 결과]</strong></p><pre>[1, 2, 3, 4, 5, 6, 7, 8, 9, 10]</pre>"
   ]
  },
  {
   "cell_type": "markdown",
   "metadata": {
    "id": "57vgLEysYLus"
   },
   "source": [
    "## 딕셔너리(dictionary)\n",
    "\n",
    "- 순서를 가지지 않습니다.\n",
    "- 키(key)와 값(value)의 쌍으로 이루어져 있습니다.\n",
    "- type은 `dict`로 표시 됩니다.\n",
    "- key를 사용하여 값을 조회할 수 있습니다.\n",
    "- 딕셔너리는 **수정, 삭제, 추가가 가능**합니다."
   ]
  },
  {
   "cell_type": "markdown",
   "metadata": {
    "id": "Y1nD5M8IYUh2"
   },
   "source": [
    "### 생성"
   ]
  },
  {
   "cell_type": "code",
   "execution_count": null,
   "metadata": {
    "id": "R3WbGCJSa-n_"
   },
   "outputs": [],
   "source": [
    "mydict = dict()\n",
    "print(type(mydict))\n",
    "mydict"
   ]
  },
  {
   "cell_type": "code",
   "execution_count": null,
   "metadata": {
    "id": "YK0UF9oIEogm"
   },
   "outputs": [],
   "source": [
    "mydict = {'a': 1, 'b': 2, 'c': 3}\n",
    "print(type(mydict))\n",
    "mydict"
   ]
  },
  {
   "cell_type": "markdown",
   "metadata": {
    "id": "SXg13XEzfHkI"
   },
   "source": [
    "딕셔너리는 여러 타입의 key를 가질 수 있습니다."
   ]
  },
  {
   "cell_type": "code",
   "execution_count": null,
   "metadata": {
    "id": "pLnzvZ5gfHkI"
   },
   "outputs": [],
   "source": [
    "mydict = {'a': 1, '가':2, 100: 3, 3.14: 4, True: 5}\n",
    "mydict"
   ]
  },
  {
   "cell_type": "markdown",
   "metadata": {
    "id": "Pb3Z94Y_FV9E"
   },
   "source": [
    "### 값 조회\n",
    "\n",
    "- key 값으로 값을 조회할 수 있습니다."
   ]
  },
  {
   "cell_type": "code",
   "execution_count": null,
   "metadata": {
    "id": "MWsYX8Q-fHkI"
   },
   "outputs": [],
   "source": [
    "mydict = {'a': 1, '가':2, 100: 3, 3.14: 4, True: 5}\n",
    "mydict"
   ]
  },
  {
   "cell_type": "markdown",
   "metadata": {
    "id": "3IrkNb2RfHkJ"
   },
   "source": [
    "key를 지정하여 값을 조회할 수 있습니다."
   ]
  },
  {
   "cell_type": "code",
   "execution_count": null,
   "metadata": {
    "id": "LMZjtCWNFZ_n"
   },
   "outputs": [],
   "source": [
    "mydict['a']"
   ]
  },
  {
   "cell_type": "markdown",
   "metadata": {
    "id": "twsRAOrCfHkJ"
   },
   "source": [
    "key가 없는 경우 Error가 발생합니다."
   ]
  },
  {
   "cell_type": "code",
   "execution_count": null,
   "metadata": {
    "id": "R1tImC2VfHkJ"
   },
   "outputs": [],
   "source": [
    "mydict['b']"
   ]
  },
  {
   "cell_type": "markdown",
   "metadata": {
    "id": "a7DJoQvcfHkK"
   },
   "source": [
    "`get()` 메서드를 활용하여 값을 조회할 수 있습니다."
   ]
  },
  {
   "cell_type": "code",
   "execution_count": null,
   "metadata": {
    "id": "xR3ROxIvfHkK"
   },
   "outputs": [],
   "source": [
    "mydict.get('a')"
   ]
  },
  {
   "cell_type": "markdown",
   "metadata": {
    "id": "6aZF7DOffHkK"
   },
   "source": [
    "`get()`을 사용하면 key가 없는 경우라도 Error가 발생하지 않습니다. 단지 None이 반환됩니다."
   ]
  },
  {
   "cell_type": "code",
   "execution_count": null,
   "metadata": {
    "id": "j7rtcL3iF701"
   },
   "outputs": [],
   "source": [
    "mydict.get('b')"
   ]
  },
  {
   "cell_type": "markdown",
   "metadata": {
    "id": "nfD8x2dLfHkK"
   },
   "source": [
    "### keys() : 모든 key 조회"
   ]
  },
  {
   "cell_type": "code",
   "execution_count": null,
   "metadata": {
    "id": "3kXqsG5JfHkL"
   },
   "outputs": [],
   "source": [
    "mydict = {'a': 100, 'b': 200, 'c': 300, 'd': 400, 'e': 500}\n",
    "mydict"
   ]
  },
  {
   "cell_type": "code",
   "execution_count": null,
   "metadata": {
    "id": "Bs-AvLJmfHkL"
   },
   "outputs": [],
   "source": [
    "mydict.keys()"
   ]
  },
  {
   "cell_type": "markdown",
   "metadata": {
    "id": "kS1F0UkhfHkL"
   },
   "source": [
    "**[참고]** `dict_keys`\n",
    "\n",
    "- `dict_keys`는 리스트(list)가 아닙니다.\n",
    "- 객체(object)로 생성되는데, 이를 list로 변경하기 위해서는 list()로 타입 변환을 하면 됩니다."
   ]
  },
  {
   "cell_type": "code",
   "execution_count": null,
   "metadata": {
    "id": "lrxLbJqffHkL"
   },
   "outputs": [],
   "source": [
    "list(mydict.keys())"
   ]
  },
  {
   "cell_type": "markdown",
   "metadata": {
    "id": "1dlsp0qefHkL"
   },
   "source": [
    "### values() : 모든 value 조회"
   ]
  },
  {
   "cell_type": "code",
   "execution_count": null,
   "metadata": {
    "id": "zfReUVDOfHkM"
   },
   "outputs": [],
   "source": [
    "mydict.values()"
   ]
  },
  {
   "cell_type": "markdown",
   "metadata": {
    "id": "k6IV5379fHkM"
   },
   "source": [
    "### items() : 모든 key, value 조회\n",
    "\n",
    "- key, value가 튜플로 묶여서 조회됩니다."
   ]
  },
  {
   "cell_type": "code",
   "execution_count": null,
   "metadata": {
    "id": "y8LPMWkNfHkM"
   },
   "outputs": [],
   "source": [
    "mydict.items()"
   ]
  },
  {
   "cell_type": "code",
   "execution_count": null,
   "metadata": {
    "id": "l_C-RK_zfHkM"
   },
   "outputs": [],
   "source": [
    "list(mydict.items())"
   ]
  },
  {
   "cell_type": "markdown",
   "metadata": {
    "id": "gDRNAH0ZGBYo"
   },
   "source": [
    "### key 값의 존재 유무 확인"
   ]
  },
  {
   "cell_type": "code",
   "execution_count": null,
   "metadata": {
    "id": "e0q7c_O0GEDF"
   },
   "outputs": [],
   "source": [
    "'a' in mydict"
   ]
  },
  {
   "cell_type": "code",
   "execution_count": null,
   "metadata": {
    "id": "cJucPBdhGGKG"
   },
   "outputs": [],
   "source": [
    "'f' in mydict"
   ]
  },
  {
   "cell_type": "markdown",
   "metadata": {
    "id": "aciJNcbDZ9mc"
   },
   "source": [
    "### 값을 추가하기\n",
    "\n",
    "- 새로운 key에 값을 대입하여 추가"
   ]
  },
  {
   "cell_type": "code",
   "execution_count": null,
   "metadata": {
    "id": "D-SAZCUHYWuc"
   },
   "outputs": [],
   "source": [
    "mydict = dict()\n",
    "mydict"
   ]
  },
  {
   "cell_type": "code",
   "execution_count": null,
   "metadata": {
    "id": "PfON-IIcYZ_e"
   },
   "outputs": [],
   "source": [
    "mydict['apple'] = 123\n",
    "mydict['apple']"
   ]
  },
  {
   "cell_type": "code",
   "execution_count": null,
   "metadata": {
    "id": "W47eMGTdYfhM"
   },
   "outputs": [],
   "source": [
    "mydict[0] = 2\n",
    "mydict[0]"
   ]
  },
  {
   "cell_type": "markdown",
   "metadata": {
    "id": "Pt5Np1QOpU4k"
   },
   "source": [
    "### update() : 다중 업데이트\n",
    "\n",
    "- 값을 한꺼번에 업데이트 합니다."
   ]
  },
  {
   "cell_type": "code",
   "execution_count": null,
   "metadata": {
    "id": "_Z4aYpc_fHkP"
   },
   "outputs": [],
   "source": [
    "mydict = {'파인애플': 1500, '망고': 3500, '배': 1000}\n",
    "mydict"
   ]
  },
  {
   "cell_type": "code",
   "execution_count": null,
   "metadata": {
    "id": "OSOgghKxpXHX"
   },
   "outputs": [],
   "source": [
    "fruit = {\n",
    "    '사과': 2000,\n",
    "    '딸기': 3000,\n",
    "    '수박': 5000,\n",
    "}"
   ]
  },
  {
   "cell_type": "code",
   "execution_count": null,
   "metadata": {
    "id": "zASxN20npmGN"
   },
   "outputs": [],
   "source": [
    "mydict.update(fruit)\n",
    "mydict"
   ]
  },
  {
   "cell_type": "markdown",
   "metadata": {
    "id": "fJvfGTfDYy8V"
   },
   "source": [
    "### 값 변경\n",
    "\n",
    "- key 값에 새로운 값(value)를 대입하여 값을 변경할 수 있습니다."
   ]
  },
  {
   "cell_type": "code",
   "execution_count": null,
   "metadata": {
    "id": "AjXA4ps3fHkP"
   },
   "outputs": [],
   "source": [
    "mydict = {'a': 100, 'b': 200, 'c': 300, 'd': 400, 'e': 500}\n",
    "mydict"
   ]
  },
  {
   "cell_type": "code",
   "execution_count": null,
   "metadata": {
    "id": "6Ho7ZevOYpXW"
   },
   "outputs": [],
   "source": [
    "mydict['a'] = 900"
   ]
  },
  {
   "cell_type": "code",
   "execution_count": null,
   "metadata": {
    "id": "oG9LcfG4Ywlw"
   },
   "outputs": [],
   "source": [
    "mydict"
   ]
  },
  {
   "cell_type": "markdown",
   "metadata": {
    "id": "-kLyGYjxE7hz"
   },
   "source": [
    "### 제거하기 / key 제거"
   ]
  },
  {
   "cell_type": "code",
   "execution_count": null,
   "metadata": {
    "id": "cLjtPUaAFFbb"
   },
   "outputs": [],
   "source": [
    "mydict = {'a': 100, 'b': 200, 'c': 300, 'd': 400, 'e': 500}\n",
    "mydict"
   ]
  },
  {
   "cell_type": "markdown",
   "metadata": {
    "id": "bt3Vt5KwfHkR"
   },
   "source": [
    "`del` 값을 제거할 수 있습니다.\n",
    "\n",
    "`del`에 딕셔너리 key를 지정합니다."
   ]
  },
  {
   "cell_type": "code",
   "execution_count": null,
   "metadata": {
    "id": "ERB2PC_rFHMI"
   },
   "outputs": [],
   "source": [
    "del mydict['a']"
   ]
  },
  {
   "cell_type": "code",
   "execution_count": null,
   "metadata": {
    "id": "FbytLQk7FQZi"
   },
   "outputs": [],
   "source": [
    "mydict"
   ]
  },
  {
   "cell_type": "markdown",
   "metadata": {
    "id": "VHI6XFJQfHkW"
   },
   "source": [
    "`pop()` 에 key를 지정하여 값을 제거할 수 있습니다.\n",
    "\n",
    "제거되는 값의 value를 반환합니다."
   ]
  },
  {
   "cell_type": "code",
   "execution_count": null,
   "metadata": {
    "id": "EidmEyoEFKYv"
   },
   "outputs": [],
   "source": [
    "mydict.pop('b')"
   ]
  },
  {
   "cell_type": "code",
   "execution_count": null,
   "metadata": {
    "id": "Yzyg9i2LFPGI"
   },
   "outputs": [],
   "source": [
    "mydict"
   ]
  },
  {
   "cell_type": "markdown",
   "metadata": {
    "id": "0SEF7gLRY_Ik"
   },
   "source": [
    "### len() : 요소의 개수 파악"
   ]
  },
  {
   "cell_type": "code",
   "execution_count": null,
   "metadata": {
    "id": "YCAsgXFTZCmh"
   },
   "outputs": [],
   "source": [
    "len(mydict)"
   ]
  },
  {
   "cell_type": "markdown",
   "metadata": {
    "id": "K3NzGkvPfHkX"
   },
   "source": [
    "### clear() - 전부 삭제"
   ]
  },
  {
   "cell_type": "code",
   "execution_count": null,
   "metadata": {
    "id": "p5W-ARh6fHkX"
   },
   "outputs": [],
   "source": [
    "mydict = {'a': 100, 'b': 200, 'c': 300, 'd': 400, 'e': 500}\n",
    "mydict"
   ]
  },
  {
   "cell_type": "code",
   "execution_count": null,
   "metadata": {
    "id": "n3Pd3H8hfHkX"
   },
   "outputs": [],
   "source": [
    "mydict.clear()"
   ]
  },
  {
   "cell_type": "code",
   "execution_count": null,
   "metadata": {
    "id": "4f9RTbjefHkX"
   },
   "outputs": [],
   "source": [
    "mydict"
   ]
  },
  {
   "cell_type": "markdown",
   "metadata": {
    "id": "pPl7y7cWsMYB"
   },
   "source": [
    "### 연습문제"
   ]
  },
  {
   "cell_type": "markdown",
   "metadata": {
    "id": "1ZsgKVeV3PXp"
   },
   "source": [
    "- 학생들의 이름과 점수를 key와 value로 가지는 `score` 변수를 생성하세요.\n",
    "    - 하준 90점, 서윤 86점, 지아 80점"
   ]
  },
  {
   "cell_type": "code",
   "execution_count": null,
   "metadata": {
    "id": "UWLF-tRb3PXq"
   },
   "outputs": [],
   "source": [
    "# 코드를 입력해 주세요\n"
   ]
  },
  {
   "cell_type": "markdown",
   "metadata": {
    "id": "SM02SNxJfHkY"
   },
   "source": [
    "<p><strong>[출력 결과]</strong></p><pre>{'하준': 90, '서윤': 86, '지아': 80}</pre>"
   ]
  },
  {
   "cell_type": "markdown",
   "metadata": {
    "id": "jM32b3t2qbax"
   },
   "source": [
    "score 변수에 수지 95점을 추가하세요."
   ]
  },
  {
   "cell_type": "code",
   "execution_count": null,
   "metadata": {
    "id": "KsOqR1HtCtex"
   },
   "outputs": [],
   "source": [
    "# 코드를 입력해 주세요\n"
   ]
  },
  {
   "cell_type": "markdown",
   "metadata": {
    "id": "p4v_-ZO8fHkZ"
   },
   "source": [
    "<p><strong>[출력 결과]</strong></p><pre>{'하준': 90, '서윤': 86, '지아': 80, '수지': 95}</pre>"
   ]
  },
  {
   "cell_type": "markdown",
   "metadata": {
    "id": "UcmPMPS8qeBX"
   },
   "source": [
    "score 변수에서 지아를 삭제하세요."
   ]
  },
  {
   "cell_type": "code",
   "execution_count": null,
   "metadata": {
    "id": "r1Xec5mX3PXs"
   },
   "outputs": [],
   "source": [
    "# 코드를 입력해 주세요\n"
   ]
  },
  {
   "cell_type": "markdown",
   "metadata": {
    "id": "n5JN2PaKfHkZ"
   },
   "source": [
    "<p><strong>[출력 결과]</strong></p><pre>{'하준': 90, '서윤': 86, '수지': 95}</pre>"
   ]
  },
  {
   "cell_type": "markdown",
   "metadata": {
    "id": "apYvbt9kqhFo"
   },
   "source": [
    "score 변수에 기창 98점, 남철 60점, 기성 75점을 **한번에** 추가하세요.\n",
    "- update() 를 사용하세요"
   ]
  },
  {
   "cell_type": "code",
   "execution_count": null,
   "metadata": {
    "id": "y2_7I4ZWrF5-"
   },
   "outputs": [],
   "source": [
    "# 코드를 입력해 주세요\n"
   ]
  },
  {
   "cell_type": "markdown",
   "metadata": {
    "id": "w-MrKynYfHka"
   },
   "source": [
    "<p><strong>[출력 결과]</strong></p><pre>{'하준': 90, '서윤': 86, '수지': 95, '기창': 98, '남철': 60, '기성': 75}</pre>"
   ]
  }
 ],
 "metadata": {
  "colab": {
   "include_colab_link": true,
   "provenance": []
  },
  "kernelspec": {
   "display_name": "Python 3",
   "language": "python",
   "name": "python3"
  },
  "language_info": {
   "codemirror_mode": {
    "name": "ipython",
    "version": 3
   },
   "file_extension": ".py",
   "mimetype": "text/x-python",
   "name": "python",
   "nbconvert_exporter": "python",
   "pygments_lexer": "ipython3",
   "version": "3.6.9"
  }
 },
 "nbformat": 4,
 "nbformat_minor": 0
}
