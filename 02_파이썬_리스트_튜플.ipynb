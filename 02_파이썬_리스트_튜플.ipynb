{
 "cells": [
  {
   "cell_type": "markdown",
   "metadata": {
    "colab_type": "text",
    "id": "view-in-github"
   },
   "source": [
    "<a href=\"https://colab.research.google.com/github/lynnelynne99/python/blob/main/02_%ED%8C%8C%EC%9D%B4%EC%8D%AC_%EB%A6%AC%EC%8A%A4%ED%8A%B8_%ED%8A%9C%ED%94%8C.ipynb\" target=\"_parent\"><img src=\"https://colab.research.google.com/assets/colab-badge.svg\" alt=\"Open In Colab\"/></a>"
   ]
  },
  {
   "cell_type": "markdown",
   "metadata": {
    "id": "KgAFjs7iUREl"
   },
   "source": [
    "# 시퀀스, 집합형 자료구조"
   ]
  },
  {
   "cell_type": "markdown",
   "metadata": {
    "id": "JiAbeX-zcgW6"
   },
   "source": [
    "| 대분류             | 타입                 | 특징                                   | 예시                     |\n",
    "| ---------------- | -------------------- | -------------------------------------- | ------------------------ |\n",
    "| 시퀀스(sequence) | 리스트(list)         | 순서가 있고, 가변(mutable)             | [1, 2, 3]                |\n",
    "| 시퀀스(sequence) | 튜플(tuple)          | 순서가 있고, 불변(immutable), read only           | (1, 2, 3)                |\n",
    "| 세트(set)        | 세트(set)            | 순서가 없고, 중복을 허용하지 않음      | {1, 2, 3}                |\n",
    "| 맵(map)          | 딕셔너리(dictionary) | 순서가 없고, key/value 쌍으로 이루어짐 | {'a': 1, 'b': 2, 'c': 3} |"
   ]
  },
  {
   "cell_type": "markdown",
   "metadata": {
    "id": "d610lQinUwSN"
   },
   "source": [
    "## 리스트(list)\n",
    "\n",
    "- 리스트는 데이터의 요소를 순차적으로 파악하는데 용이한 자료형 입니다.\n",
    "- 리스트는 다양한 메서드(method) 혹은 함수를 지원하며 메서드를 활용하여 요소를 추가, 삭제 및 변경할 수 있습니다.\n",
    "\n",
    "**메서드(method)**: 객체(object)가 포함하는 함수 혹은 기능입니다. 함수에 대한 내용은 추후에 다룹니다."
   ]
  },
  {
   "cell_type": "markdown",
   "metadata": {
    "id": "Twq31zuC0xJJ"
   },
   "source": [
    "### 생성"
   ]
  },
  {
   "cell_type": "markdown",
   "metadata": {
    "id": "g-HX7XnQU5zN"
   },
   "source": [
    "[] 형태로 표현합니다."
   ]
  },
  {
   "cell_type": "markdown",
   "metadata": {
    "id": "x1yU3DI-cgW7"
   },
   "source": [
    "빈 리스트를 생성합니다."
   ]
  },
  {
   "cell_type": "code",
   "execution_count": null,
   "metadata": {
    "id": "xSAez-0xU_sg"
   },
   "outputs": [
    {
     "data": {
      "text/plain": [
       "[]"
      ]
     },
     "execution_count": 2,
     "metadata": {},
     "output_type": "execute_result"
    }
   ],
   "source": [
    "mylist = [] # 어떠한 요소도 없는 빈 리스트를 생성\n",
    "mylist "
   ]
  },
  {
   "cell_type": "code",
   "execution_count": 3,
   "metadata": {
    "id": "CDyUdGJVcgW8"
   },
   "outputs": [
    {
     "data": {
      "text/plain": [
       "[]"
      ]
     },
     "execution_count": 3,
     "metadata": {},
     "output_type": "execute_result"
    }
   ],
   "source": [
    "mylist = list()\n",
    "mylist"
   ]
  },
  {
   "cell_type": "markdown",
   "metadata": {
    "id": "rboSudWScgW9"
   },
   "source": [
    "리스트를 생성하면서 값을 포함합니다."
   ]
  },
  {
   "cell_type": "code",
   "execution_count": 4,
   "metadata": {
    "id": "IVS7djx4U0KS"
   },
   "outputs": [
    {
     "data": {
      "text/plain": [
       "[1, 3, 2, 4, 5]"
      ]
     },
     "execution_count": 4,
     "metadata": {},
     "output_type": "execute_result"
    }
   ],
   "source": [
    "mylist = [1, 3, 2, 4, 5]\n",
    "mylist"
   ]
  },
  {
   "cell_type": "markdown",
   "metadata": {
    "id": "SxrF2tkJz26f"
   },
   "source": [
    "### list 규칙"
   ]
  },
  {
   "cell_type": "markdown",
   "metadata": {
    "id": "C1SLDi69z5ag"
   },
   "source": [
    "* list는 다양한 type의 데이터를 집합으로 가질 수 있습니다.\n",
    "* list안에 list도 허용합니다.\n",
    "* list는 순서(order)의 개념이 존재합니다."
   ]
  },
  {
   "cell_type": "code",
   "execution_count": 5,
   "metadata": {
    "id": "TZimFWErz6KT"
   },
   "outputs": [],
   "source": [
    "a = []"
   ]
  },
  {
   "cell_type": "code",
   "execution_count": 6,
   "metadata": {
    "id": "gF2NT1YW_5bz"
   },
   "outputs": [
    {
     "data": {
      "text/plain": [
       "[]"
      ]
     },
     "execution_count": 6,
     "metadata": {},
     "output_type": "execute_result"
    }
   ],
   "source": [
    "a"
   ]
  },
  {
   "cell_type": "code",
   "execution_count": 7,
   "metadata": {
    "id": "rhAQ23ymz8W6"
   },
   "outputs": [
    {
     "data": {
      "text/plain": [
       "[1, 2, 3]"
      ]
     },
     "execution_count": 7,
     "metadata": {},
     "output_type": "execute_result"
    }
   ],
   "source": [
    "a = [1, 2, 3]\n",
    "a"
   ]
  },
  {
   "cell_type": "code",
   "execution_count": 8,
   "metadata": {
    "id": "RRoIj9ISz92M"
   },
   "outputs": [
    {
     "data": {
      "text/plain": [
       "[1, 'hello', 3, 3.14, True]"
      ]
     },
     "execution_count": 8,
     "metadata": {},
     "output_type": "execute_result"
    }
   ],
   "source": [
    "a = [1, 'hello', 3, 3.14, True]\n",
    "a"
   ]
  },
  {
   "cell_type": "markdown",
   "metadata": {
    "id": "nM_LJznJcgW-"
   },
   "source": [
    "리스트 안에 리스트로 포함할 수 있습니다."
   ]
  },
  {
   "cell_type": "code",
   "execution_count": 9,
   "metadata": {
    "id": "2fdiq1bc0B3G"
   },
   "outputs": [
    {
     "data": {
      "text/plain": [
       "[1, 'hello', 3, 3.14, [6, 7, '8']]"
      ]
     },
     "execution_count": 9,
     "metadata": {},
     "output_type": "execute_result"
    }
   ],
   "source": [
    "a = [1, 'hello', 3, 3.14, [6, 7, '8']]\n",
    "a"
   ]
  },
  {
   "cell_type": "markdown",
   "metadata": {
    "id": "JSh4BXzRWUY_"
   },
   "source": [
    "### 관련 함수\n",
    "\n",
    "- . 점 연산자로 함수를 실행할 수 있습니다.\n",
    "- 함수는 어떤 작업을 수행하는 코드를 모아 이름을 붙인 것입니다.\n",
    "- 자세한 내용은 추후 함수 단원에서 배웁니다."
   ]
  },
  {
   "cell_type": "markdown",
   "metadata": {
    "id": "ilJWB7H8qjNa"
   },
   "source": [
    "### append() : 값 추가"
   ]
  },
  {
   "cell_type": "markdown",
   "metadata": {
    "id": "gLBi5RsP2Cjb"
   },
   "source": [
    "빈 리스트를 생성합니다."
   ]
  },
  {
   "cell_type": "code",
   "execution_count": 10,
   "metadata": {
    "id": "JWnjMkgr1oQb"
   },
   "outputs": [
    {
     "data": {
      "text/plain": [
       "[]"
      ]
     },
     "execution_count": 10,
     "metadata": {},
     "output_type": "execute_result"
    }
   ],
   "source": [
    "mylist = []\n",
    "mylist"
   ]
  },
  {
   "cell_type": "markdown",
   "metadata": {
    "id": "jZCHtjoGcgW_"
   },
   "source": [
    "append() 는 값을 맨 뒤에 추가 합니다."
   ]
  },
  {
   "cell_type": "code",
   "execution_count": 15,
   "metadata": {
    "id": "AYHFOiG2VJEQ"
   },
   "outputs": [
    {
     "data": {
      "text/plain": [
       "[1, 7, 7, 7, 3, 5, 2, 1, 1, 1]"
      ]
     },
     "execution_count": 15,
     "metadata": {},
     "output_type": "execute_result"
    }
   ],
   "source": [
    "mylist.append(1)\n",
    "mylist"
   ]
  },
  {
   "cell_type": "markdown",
   "metadata": {
    "id": "_QLShecBcgW_"
   },
   "source": [
    "중복된 값을 추가할 수 있으며, 순서가 **유지**됩니다."
   ]
  },
  {
   "cell_type": "code",
   "execution_count": 16,
   "metadata": {
    "id": "LBBwfWxRVK6E"
   },
   "outputs": [
    {
     "data": {
      "text/plain": [
       "[1, 7, 7, 7, 3, 5, 2, 1, 1, 1, 7, 7, 7, 3, 5, 2]"
      ]
     },
     "execution_count": 16,
     "metadata": {},
     "output_type": "execute_result"
    }
   ],
   "source": [
    "mylist.append(7)\n",
    "mylist.append(7)\n",
    "mylist.append(7)\n",
    "mylist.append(3)\n",
    "mylist.append(5)\n",
    "mylist.append(2)\n",
    "mylist"
   ]
  },
  {
   "cell_type": "markdown",
   "metadata": {
    "id": "mwaKcYsRWatD"
   },
   "source": [
    "### sort() : 정렬"
   ]
  },
  {
   "cell_type": "markdown",
   "metadata": {
    "id": "TkuM5mqM1-r-"
   },
   "source": [
    "- 요소를 순서대로 정렬합니다 (오름차순)\n",
    "- sort()는 내부적으로 정렬 합니다."
   ]
  },
  {
   "cell_type": "code",
   "execution_count": 17,
   "metadata": {
    "id": "ZjRQXZAHWccX"
   },
   "outputs": [],
   "source": [
    "mylist = [1, 6, 3, 2, 7, 5, 4]\n",
    "mylist.sort()"
   ]
  },
  {
   "cell_type": "code",
   "execution_count": 18,
   "metadata": {
    "id": "amuUCcPl17Hq"
   },
   "outputs": [
    {
     "data": {
      "text/plain": [
       "[1, 2, 3, 4, 5, 6, 7]"
      ]
     },
     "execution_count": 18,
     "metadata": {},
     "output_type": "execute_result"
    }
   ],
   "source": [
    "mylist"
   ]
  },
  {
   "cell_type": "markdown",
   "metadata": {
    "id": "EaHHAmqlcgXA"
   },
   "source": [
    "역정렬(reverse order)도 가능합니다. (`reverse=True`를 지정합니다.)"
   ]
  },
  {
   "cell_type": "code",
   "execution_count": 19,
   "metadata": {
    "id": "BdCWTN-wcgXB"
   },
   "outputs": [],
   "source": [
    "mylist = [1, 6, 3, 2, 7, 5, 4]\n",
    "mylist.sort(reverse=True)"
   ]
  },
  {
   "cell_type": "code",
   "execution_count": 20,
   "metadata": {
    "id": "v592Eh_ycgXB"
   },
   "outputs": [
    {
     "data": {
      "text/plain": [
       "[7, 6, 5, 4, 3, 2, 1]"
      ]
     },
     "execution_count": 20,
     "metadata": {},
     "output_type": "execute_result"
    }
   ],
   "source": [
    "mylist"
   ]
  },
  {
   "cell_type": "markdown",
   "metadata": {
    "id": "mXtpy3CIcgXB"
   },
   "source": [
    "### sorted() : 정렬\n",
    "\n",
    "- 요소를 순서대로 정렬합니다.\n",
    "- 내부적으로 정렬하지 않고 **정렬된 복사본을 반환**합니다.\n",
    "- **즉 원본 데이터는 정렬되지 않습니다.**"
   ]
  },
  {
   "cell_type": "code",
   "execution_count": 21,
   "metadata": {
    "id": "ed62pm5YcgXB"
   },
   "outputs": [
    {
     "data": {
      "text/plain": [
       "[1, 2, 3, 4, 5, 6, 7]"
      ]
     },
     "execution_count": 21,
     "metadata": {},
     "output_type": "execute_result"
    }
   ],
   "source": [
    "mylist = [1, 6, 3, 2, 7, 5, 4]\n",
    "mylist2 = sorted(mylist)\n",
    "mylist2"
   ]
  },
  {
   "cell_type": "code",
   "execution_count": 25,
   "metadata": {
    "id": "xOh7qMeEcgXB"
   },
   "outputs": [
    {
     "name": "stdout",
     "output_type": "stream",
     "text": [
      "[1, 2, 3, 4, 5, 6, 7]\n"
     ]
    },
    {
     "data": {
      "text/plain": [
       "[1, 6, 3, 2, 7, 5, 4]"
      ]
     },
     "execution_count": 25,
     "metadata": {},
     "output_type": "execute_result"
    }
   ],
   "source": [
    "print(mylist2)\n",
    "mylist"
   ]
  },
  {
   "cell_type": "markdown",
   "metadata": {
    "id": "q3TDyJrbcgXB"
   },
   "source": [
    "마찬가지로, `reverse=True`를 지정하여 역정렬할 수 있습니다."
   ]
  },
  {
   "cell_type": "code",
   "execution_count": null,
   "metadata": {
    "id": "NA3OFWdMcgXC"
   },
   "outputs": [
    {
     "name": "stdout",
     "output_type": "stream",
     "text": [
      "[1, 6, 3, 2, 7, 5, 4]\n",
      "[1, 2, 3, 4, 5, 6, 7]\n"
     ]
    },
    {
     "data": {
      "text/plain": [
       "[7, 6, 5, 4, 3, 2, 1]"
      ]
     },
     "execution_count": 33,
     "metadata": {},
     "output_type": "execute_result"
    }
   ],
   "source": [
    "mylist = [1, 6, 3, 2, 7, 5, 4]\n",
    "sorted(mylist, reverse=True)\n",
    "mylist3 = sorted(mylist, reverse=True)\n",
    "print(mylist)\n",
    "print(mylist2) # sorted 함수는 원본 리스트를 변경하지 않았으므로 mylist1은 그대로 유지한 채로 mylist2에 정렬된 결과를 저장해뒀음\n",
    "mylist3 # sorted 함수는 원본 리스트를 변경하지 않았으므로 mylist1은 그대로 유지한 채로 mylist3에 정렬된 결과를 저장해뒀음\n"
   ]
  },
  {
   "cell_type": "markdown",
   "metadata": {
    "id": "Dx97KWki2JOq"
   },
   "source": [
    "### reverse() : 역정렬"
   ]
  },
  {
   "cell_type": "code",
   "execution_count": 34,
   "metadata": {
    "id": "PiTJMwY1DR9e"
   },
   "outputs": [
    {
     "data": {
      "text/plain": [
       "[1, 6, 3, 2, 7, 5, 4]"
      ]
     },
     "execution_count": 34,
     "metadata": {},
     "output_type": "execute_result"
    }
   ],
   "source": [
    "mylist"
   ]
  },
  {
   "cell_type": "code",
   "execution_count": 35,
   "metadata": {
    "id": "VGDfSJFADsRO"
   },
   "outputs": [],
   "source": [
    "mylist.reverse()"
   ]
  },
  {
   "cell_type": "code",
   "execution_count": 36,
   "metadata": {
    "id": "hU9A_WURDuMG"
   },
   "outputs": [
    {
     "data": {
      "text/plain": [
       "[4, 5, 7, 2, 3, 6, 1]"
      ]
     },
     "execution_count": 36,
     "metadata": {},
     "output_type": "execute_result"
    }
   ],
   "source": [
    "mylist"
   ]
  },
  {
   "cell_type": "code",
   "execution_count": null,
   "metadata": {
    "id": "S8C3nmHBEKZO"
   },
   "outputs": [
    {
     "data": {
      "text/plain": [
       "[1, 6, 3, 2, 7, 5, 4]"
      ]
     },
     "execution_count": 37,
     "metadata": {},
     "output_type": "execute_result"
    }
   ],
   "source": [
    "mylist[::-1] # 리스트를 역순으로 출력하는데, 원본 리스트는 그대로 유지"
   ]
  },
  {
   "cell_type": "code",
   "execution_count": 39,
   "metadata": {
    "id": "HEKGCsRnEURt"
   },
   "outputs": [
    {
     "data": {
      "text/plain": [
       "[4, 5, 7, 2, 3, 6, 1]"
      ]
     },
     "execution_count": 39,
     "metadata": {},
     "output_type": "execute_result"
    }
   ],
   "source": [
    "mylist"
   ]
  },
  {
   "cell_type": "markdown",
   "metadata": {
    "id": "QJ8NCnNbcgXC"
   },
   "source": [
    "### len() : 전체 항목의 개수 세기, length의 줄임말"
   ]
  },
  {
   "cell_type": "code",
   "execution_count": 40,
   "metadata": {
    "id": "FaDoNkLLcgXC"
   },
   "outputs": [
    {
     "data": {
      "text/plain": [
       "7"
      ]
     },
     "execution_count": 40,
     "metadata": {},
     "output_type": "execute_result"
    }
   ],
   "source": [
    "mylist = [1, 6, 3, 2, 7, 5, 4]\n",
    "len(mylist)"
   ]
  },
  {
   "cell_type": "markdown",
   "metadata": {
    "id": "0U0bsd5W2TPk"
   },
   "source": [
    "### insert() : 값 추가"
   ]
  },
  {
   "cell_type": "markdown",
   "metadata": {
    "id": "k_rbdp2q2VoN"
   },
   "source": [
    "지정한 index에 값 추가"
   ]
  },
  {
   "cell_type": "code",
   "execution_count": 41,
   "metadata": {
    "id": "Sz687uQGE0_t"
   },
   "outputs": [],
   "source": [
    "mylist = [1, 6, 3, 2, 7, 5, 4]"
   ]
  },
  {
   "cell_type": "code",
   "execution_count": 42,
   "metadata": {
    "id": "2iZQBTNXE2SH"
   },
   "outputs": [
    {
     "data": {
      "text/plain": [
       "[1, 6, 3, 2, 7, 5, 4]"
      ]
     },
     "execution_count": 42,
     "metadata": {},
     "output_type": "execute_result"
    }
   ],
   "source": [
    "mylist"
   ]
  },
  {
   "cell_type": "code",
   "execution_count": null,
   "metadata": {
    "id": "ftFR8PsbVOx0"
   },
   "outputs": [],
   "source": [
    "mylist.insert(1, 100) # 1번 자리에 100을 삽입\n",
    "mylist.insert(3, 200) # 3번 자리에 200을 삽입"
   ]
  },
  {
   "cell_type": "code",
   "execution_count": 46,
   "metadata": {
    "id": "mT1vjQoQEytu"
   },
   "outputs": [
    {
     "data": {
      "text/plain": [
       "[1, 100, 100, 200, 6, 3, 2, 7, 5, 4]"
      ]
     },
     "execution_count": 46,
     "metadata": {},
     "output_type": "execute_result"
    }
   ],
   "source": [
    "mylist"
   ]
  },
  {
   "cell_type": "markdown",
   "metadata": {
    "id": "twBqWxkQ2j27"
   },
   "source": [
    "### remove() : 값 제거"
   ]
  },
  {
   "cell_type": "markdown",
   "metadata": {
    "id": "GFSPMzGn2ngJ"
   },
   "source": [
    "리스트에서 첫 번째 나오는 해당 값 삭제"
   ]
  },
  {
   "cell_type": "code",
   "execution_count": 47,
   "metadata": {
    "id": "Dx28A1GMFC4D"
   },
   "outputs": [],
   "source": [
    "mylist = [1, 2, 3, 4, 7, 7, 7, 6, 5]"
   ]
  },
  {
   "cell_type": "code",
   "execution_count": null,
   "metadata": {
    "id": "TsBOX9IHVRgU"
   },
   "outputs": [],
   "source": [
    "mylist.remove(7) # 리스트에서 첫 번째로 나오는 7을 삭제, 이 경우에 7을 다 지우고 싶으면 세 번 해주면 됨"
   ]
  },
  {
   "cell_type": "code",
   "execution_count": 49,
   "metadata": {
    "id": "2IqkZq9r2xr2"
   },
   "outputs": [
    {
     "data": {
      "text/plain": [
       "[1, 2, 3, 4, 7, 7, 6, 5]"
      ]
     },
     "execution_count": 49,
     "metadata": {},
     "output_type": "execute_result"
    }
   ],
   "source": [
    "mylist"
   ]
  },
  {
   "cell_type": "markdown",
   "metadata": {
    "id": "fDheQenM2yX3"
   },
   "source": [
    "### pop() : 요소 꺼내기"
   ]
  },
  {
   "cell_type": "markdown",
   "metadata": {
    "id": "Alg4teMF2_ym"
   },
   "source": [
    "x번째 요소를 돌려주고 해당 요소는 삭제"
   ]
  },
  {
   "cell_type": "code",
   "execution_count": 50,
   "metadata": {
    "id": "kMKHxQhkFU91"
   },
   "outputs": [],
   "source": [
    "mylist = [1, 2, 3, 4, 7, 7, 7, 6, 5]"
   ]
  },
  {
   "cell_type": "code",
   "execution_count": 51,
   "metadata": {
    "id": "HFTjI5LLFW0N"
   },
   "outputs": [
    {
     "data": {
      "text/plain": [
       "[1, 2, 3, 4, 7, 7, 7, 6, 5]"
      ]
     },
     "execution_count": 51,
     "metadata": {},
     "output_type": "execute_result"
    }
   ],
   "source": [
    "mylist"
   ]
  },
  {
   "cell_type": "code",
   "execution_count": null,
   "metadata": {
    "id": "SAnoxn-l2431"
   },
   "outputs": [
    {
     "data": {
      "text/plain": [
       "2"
      ]
     },
     "execution_count": 52,
     "metadata": {},
     "output_type": "execute_result"
    }
   ],
   "source": [
    "mylist.pop(1) # 1번 자리의 요소인 2를 꺼내고 삭제"
   ]
  },
  {
   "cell_type": "code",
   "execution_count": 53,
   "metadata": {
    "id": "kETiPBoBFiYk"
   },
   "outputs": [
    {
     "data": {
      "text/plain": [
       "[1, 3, 4, 7, 7, 7, 6, 5]"
      ]
     },
     "execution_count": 53,
     "metadata": {},
     "output_type": "execute_result"
    }
   ],
   "source": [
    "mylist"
   ]
  },
  {
   "cell_type": "markdown",
   "metadata": {
    "id": "V0N1pvlhcgXE"
   },
   "source": [
    "### del : 요소 삭제"
   ]
  },
  {
   "cell_type": "code",
   "execution_count": 54,
   "metadata": {
    "id": "QrLwP1wLcgXE"
   },
   "outputs": [
    {
     "name": "stdout",
     "output_type": "stream",
     "text": [
      "[100, 300, 400, 500]\n",
      "[100, 300, 400]\n"
     ]
    }
   ],
   "source": [
    "mylist = [100, 200, 300, 400, 500]\n",
    "\n",
    "del mylist[1]\n",
    "print(mylist)\n",
    "\n",
    "del mylist[3]\n",
    "print(mylist)"
   ]
  },
  {
   "cell_type": "markdown",
   "metadata": {
    "id": "uz1LiSBZ3F0C"
   },
   "source": [
    "### count() : 갯수 세기"
   ]
  },
  {
   "cell_type": "code",
   "execution_count": 55,
   "metadata": {
    "id": "XAI1jJ6d3Lp7"
   },
   "outputs": [],
   "source": [
    "a = [1, 1, 1, 1, 1, 2, 2, 3]"
   ]
  },
  {
   "cell_type": "code",
   "execution_count": 56,
   "metadata": {
    "id": "3nfuqjHB3Ojs"
   },
   "outputs": [
    {
     "data": {
      "text/plain": [
       "5"
      ]
     },
     "execution_count": 56,
     "metadata": {},
     "output_type": "execute_result"
    }
   ],
   "source": [
    "a.count(1)"
   ]
  },
  {
   "cell_type": "code",
   "execution_count": 57,
   "metadata": {
    "id": "oJHVq8ev3P0_"
   },
   "outputs": [
    {
     "data": {
      "text/plain": [
       "2"
      ]
     },
     "execution_count": 57,
     "metadata": {},
     "output_type": "execute_result"
    }
   ],
   "source": [
    "a.count(2)"
   ]
  },
  {
   "cell_type": "code",
   "execution_count": 58,
   "metadata": {
    "id": "jEoHgBm_3S5R"
   },
   "outputs": [
    {
     "data": {
      "text/plain": [
       "0"
      ]
     },
     "execution_count": 58,
     "metadata": {},
     "output_type": "execute_result"
    }
   ],
   "source": [
    "a.count(5)"
   ]
  },
  {
   "cell_type": "markdown",
   "metadata": {
    "id": "t2s6BnF_3W04"
   },
   "source": [
    "### extend() : 리스트 확장"
   ]
  },
  {
   "cell_type": "code",
   "execution_count": 63,
   "metadata": {
    "id": "h9U2co-U3Ww1"
   },
   "outputs": [],
   "source": [
    "a = [1, 2, 3]"
   ]
  },
  {
   "cell_type": "code",
   "execution_count": 65,
   "metadata": {
    "id": "89lby2th3cn0"
   },
   "outputs": [],
   "source": [
    "a.extend([4, 5])"
   ]
  },
  {
   "cell_type": "code",
   "execution_count": 66,
   "metadata": {
    "id": "l72yuhjZ3Wri"
   },
   "outputs": [
    {
     "data": {
      "text/plain": [
       "[1, 2, 3, 4, 5]"
      ]
     },
     "execution_count": 66,
     "metadata": {},
     "output_type": "execute_result"
    }
   ],
   "source": [
    "a"
   ]
  },
  {
   "cell_type": "markdown",
   "metadata": {
    "id": "zYV3BI4zcgXG"
   },
   "source": [
    "`+` 연산자는 extend()와 동일한 기능을 수행합니다."
   ]
  },
  {
   "cell_type": "code",
   "execution_count": 67,
   "metadata": {
    "id": "INJ26oUKcgXG"
   },
   "outputs": [
    {
     "data": {
      "text/plain": [
       "[1, 2, 3, 4, 5]"
      ]
     },
     "execution_count": 67,
     "metadata": {},
     "output_type": "execute_result"
    }
   ],
   "source": [
    "a = [1, 2, 3]\n",
    "a + [4, 5]"
   ]
  },
  {
   "cell_type": "markdown",
   "metadata": {
    "id": "fMAdPD_zkFZm"
   },
   "source": [
    "### 연습문제"
   ]
  },
  {
   "cell_type": "code",
   "execution_count": 87,
   "metadata": {
    "id": "Kh3ZEKT0kIqA"
   },
   "outputs": [],
   "source": [
    "movie = ['어벤져스', '아이언맨', '토르', '스파이더맨']"
   ]
  },
  {
   "cell_type": "markdown",
   "metadata": {
    "id": "tyOTHPsMkzCo"
   },
   "source": [
    "`movie`에 맨 끝에 `엑스맨` 을 추가하세요."
   ]
  },
  {
   "cell_type": "code",
   "execution_count": 88,
   "metadata": {
    "id": "PKEtjNIvlBek"
   },
   "outputs": [
    {
     "data": {
      "text/plain": [
       "['어벤져스', '아이언맨', '토르', '스파이더맨', '엑스맨']"
      ]
     },
     "execution_count": 88,
     "metadata": {},
     "output_type": "execute_result"
    }
   ],
   "source": [
    "# 코드를 입력해 주세요\n",
    "# append를 이용하는 법: movie.append('엑스맨')\n",
    "# + 연산자를 이용하는 법: movie + ['엑스맨2']\n",
    "# extend를 이용하는 법: movie.extend(['엑스맨3'])\n",
    "movie.append('엑스맨')\n",
    "movie"
   ]
  },
  {
   "cell_type": "markdown",
   "metadata": {
    "id": "IYdeyJyPcgXH"
   },
   "source": [
    "<p><strong>[출력 결과]</strong></p><pre>['어벤져스', '아이언맨', '토르', '스파이더맨', '엑스맨']</pre>"
   ]
  },
  {
   "cell_type": "markdown",
   "metadata": {
    "id": "iel_W4C6ofKa"
   },
   "source": [
    "`movie`의 1번 index에 `데드풀`을 추가하세요"
   ]
  },
  {
   "cell_type": "code",
   "execution_count": 89,
   "metadata": {
    "id": "yGyNESOdorFN"
   },
   "outputs": [
    {
     "data": {
      "text/plain": [
       "['어벤져스', '데드풀', '아이언맨', '토르', '스파이더맨', '엑스맨']"
      ]
     },
     "execution_count": 89,
     "metadata": {},
     "output_type": "execute_result"
    }
   ],
   "source": [
    "# 코드를 입력해 주세요\n",
    "movie.insert(1,'데드풀')\n",
    "movie"
   ]
  },
  {
   "cell_type": "markdown",
   "metadata": {
    "id": "-M36NN9VcgXH"
   },
   "source": [
    "<p><strong>[출력 결과]</strong></p><pre>['어벤져스', '데드풀', '아이언맨', '토르', '스파이더맨', '엑스맨']</pre>"
   ]
  },
  {
   "cell_type": "markdown",
   "metadata": {
    "id": "SyMuSUDFlICP"
   },
   "source": [
    "`movie`에서 `아이언맨`을 삭제 하세요.\n",
    "\n",
    "- remove() 사용"
   ]
  },
  {
   "cell_type": "code",
   "execution_count": null,
   "metadata": {
    "id": "y95NJRYSlQJb"
   },
   "outputs": [
    {
     "data": {
      "text/plain": [
       "['어벤져스', '데드풀', '토르', '스파이더맨', '엑스맨']"
      ]
     },
     "execution_count": 91,
     "metadata": {},
     "output_type": "execute_result"
    }
   ],
   "source": [
    "# 코드를 입력해 주세요\n",
    "movie.remove('아이언맨')\n",
    "movie"
   ]
  },
  {
   "cell_type": "markdown",
   "metadata": {
    "id": "6gPuUw05cgXH"
   },
   "source": [
    "<p><strong>[출력 결과]</strong></p><pre>['어벤져스', '데드풀', '토르', '스파이더맨', '엑스맨']</pre>"
   ]
  },
  {
   "cell_type": "markdown",
   "metadata": {
    "id": "iL1uUEihcgXI"
   },
   "source": [
    "`movie`에서 1번째 index를 삭제하세요"
   ]
  },
  {
   "cell_type": "code",
   "execution_count": null,
   "metadata": {
    "id": "qwkIw2cgcgXI"
   },
   "outputs": [
    {
     "data": {
      "text/plain": [
       "['어벤져스', '토르', '스파이더맨', '엑스맨']"
      ]
     },
     "execution_count": 94,
     "metadata": {},
     "output_type": "execute_result"
    }
   ],
   "source": [
    "# 코드를 입력해 주세요\n",
    "# del 을 활용한 삭제 방법: del movie[1]\n",
    "# pop을 활용한 삭제 방법: movie.pop(1)\n",
    "del movie[1]\n",
    "movie"
   ]
  },
  {
   "cell_type": "markdown",
   "metadata": {
    "id": "tTQQ1qwccgXI"
   },
   "source": [
    "<p><strong>[출력 결과]</strong></p><pre>['어벤져스', '토르', '스파이더맨', '엑스맨']</pre>"
   ]
  },
  {
   "cell_type": "code",
   "execution_count": 110,
   "metadata": {
    "id": "6aQemYcxcgXI"
   },
   "outputs": [],
   "source": [
    "kr_movie = ['승리호', '신세계', '타짜']"
   ]
  },
  {
   "cell_type": "markdown",
   "metadata": {
    "id": "T4D9uE4EcgXI"
   },
   "source": [
    "`kr_movie`를 `movie`에 추가해 주세요"
   ]
  },
  {
   "cell_type": "code",
   "execution_count": 111,
   "metadata": {
    "id": "-rMGPjTIcgXI"
   },
   "outputs": [
    {
     "data": {
      "text/plain": [
       "['스파이더맨', '어벤져스', '엑스맨', '토르', '승리호', '신세계', '타짜']"
      ]
     },
     "execution_count": 111,
     "metadata": {},
     "output_type": "execute_result"
    }
   ],
   "source": [
    "# 코드를 입력해 주세요\n",
    "movie = movie + kr_movie\n",
    "movie"
   ]
  },
  {
   "cell_type": "markdown",
   "metadata": {
    "id": "_X_rL5kXcgXJ"
   },
   "source": [
    "<p><strong>[출력 결과]</strong></p><pre>['어벤져스', '토르', '스파이더맨', '엑스맨', '승리호', '신세계', '타짜']</pre>"
   ]
  },
  {
   "cell_type": "markdown",
   "metadata": {
    "id": "oykgqKmgcgXJ"
   },
   "source": [
    "`movie`를 가나다 순으로 정렬하세요"
   ]
  },
  {
   "cell_type": "code",
   "execution_count": 112,
   "metadata": {
    "id": "VzlmuxO2cgXJ"
   },
   "outputs": [
    {
     "data": {
      "text/plain": [
       "['스파이더맨', '승리호', '신세계', '어벤져스', '엑스맨', '타짜', '토르']"
      ]
     },
     "execution_count": 112,
     "metadata": {},
     "output_type": "execute_result"
    }
   ],
   "source": [
    "# 코드를 입력해 주세요\n",
    "movie.sort()\n",
    "movie"
   ]
  },
  {
   "cell_type": "markdown",
   "metadata": {
    "id": "nxA8-WMDcgXJ"
   },
   "source": [
    "<p><strong>[출력 결과]</strong></p><pre>['스파이더맨', '승리호', '신세계', '어벤져스', '엑스맨', '타짜', '토르']</pre>"
   ]
  },
  {
   "cell_type": "markdown",
   "metadata": {
    "id": "k0w9nYxPWSNO"
   },
   "source": [
    "### 인덱싱(indexing): 색인"
   ]
  },
  {
   "cell_type": "code",
   "execution_count": 113,
   "metadata": {
    "id": "qY6rAQpWW5Pr"
   },
   "outputs": [],
   "source": [
    "mylist = [1, 2, 3, 4]"
   ]
  },
  {
   "cell_type": "markdown",
   "metadata": {
    "id": "l9ad4C1XW9KE"
   },
   "source": [
    "인덱스는 **0번 부터 시작** 합니다."
   ]
  },
  {
   "cell_type": "code",
   "execution_count": 114,
   "metadata": {
    "id": "nxGtMBuUWSXd"
   },
   "outputs": [
    {
     "data": {
      "text/plain": [
       "1"
      ]
     },
     "execution_count": 114,
     "metadata": {},
     "output_type": "execute_result"
    }
   ],
   "source": [
    "mylist[0]"
   ]
  },
  {
   "cell_type": "code",
   "execution_count": 115,
   "metadata": {
    "id": "bQQaTXemXDk-"
   },
   "outputs": [
    {
     "data": {
      "text/plain": [
       "4"
      ]
     },
     "execution_count": 115,
     "metadata": {},
     "output_type": "execute_result"
    }
   ],
   "source": [
    "mylist[3]"
   ]
  },
  {
   "cell_type": "code",
   "execution_count": 116,
   "metadata": {
    "id": "GtO0YS9HXDe7"
   },
   "outputs": [
    {
     "ename": "IndexError",
     "evalue": "list index out of range",
     "output_type": "error",
     "traceback": [
      "\u001b[0;31m---------------------------------------------------------------------------\u001b[0m",
      "\u001b[0;31mIndexError\u001b[0m                                Traceback (most recent call last)",
      "Cell \u001b[0;32mIn[116], line 1\u001b[0m\n\u001b[0;32m----> 1\u001b[0m \u001b[43mmylist\u001b[49m\u001b[43m[\u001b[49m\u001b[38;5;241;43m4\u001b[39;49m\u001b[43m]\u001b[49m\n",
      "\u001b[0;31mIndexError\u001b[0m: list index out of range"
     ]
    }
   ],
   "source": [
    "mylist[4]"
   ]
  },
  {
   "cell_type": "markdown",
   "metadata": {
    "id": "gx3q3lpGBfI2"
   },
   "source": [
    "### 역순 인덱싱\n",
    "\n",
    "파이썬은 음수 인덱싱을 지원합니다."
   ]
  },
  {
   "cell_type": "code",
   "execution_count": 117,
   "metadata": {
    "id": "jJbfxm9TKRMJ"
   },
   "outputs": [
    {
     "data": {
      "text/plain": [
       "[1, 2, 3, 4]"
      ]
     },
     "execution_count": 117,
     "metadata": {},
     "output_type": "execute_result"
    }
   ],
   "source": [
    "mylist"
   ]
  },
  {
   "cell_type": "code",
   "execution_count": 118,
   "metadata": {
    "id": "OPtminJaBZCg"
   },
   "outputs": [
    {
     "data": {
      "text/plain": [
       "4"
      ]
     },
     "execution_count": 118,
     "metadata": {},
     "output_type": "execute_result"
    }
   ],
   "source": [
    "mylist[-1]"
   ]
  },
  {
   "cell_type": "code",
   "execution_count": 119,
   "metadata": {
    "id": "PuCoYHPEBbve"
   },
   "outputs": [
    {
     "data": {
      "text/plain": [
       "2"
      ]
     },
     "execution_count": 119,
     "metadata": {},
     "output_type": "execute_result"
    }
   ],
   "source": [
    "mylist[-3]"
   ]
  },
  {
   "cell_type": "code",
   "execution_count": null,
   "metadata": {
    "id": "dvsC2y9hXDYq"
   },
   "outputs": [
    {
     "ename": "IndexError",
     "evalue": "list index out of range",
     "output_type": "error",
     "traceback": [
      "\u001b[0;31m---------------------------------------------------------------------------\u001b[0m",
      "\u001b[0;31mIndexError\u001b[0m                                Traceback (most recent call last)",
      "Cell \u001b[0;32mIn[120], line 1\u001b[0m\n\u001b[0;32m----> 1\u001b[0m \u001b[43mmylist\u001b[49m\u001b[43m[\u001b[49m\u001b[38;5;241;43m-\u001b[39;49m\u001b[38;5;241;43m5\u001b[39;49m\u001b[43m]\u001b[49m\n",
      "\u001b[0;31mIndexError\u001b[0m: list index out of range"
     ]
    }
   ],
   "source": [
    "mylist[-5] # IndexError: list index out of range"
   ]
  },
  {
   "cell_type": "markdown",
   "metadata": {
    "id": "TZEqteGEXtJZ"
   },
   "source": [
    "### 인덱스로 접근하여 값 바꾸기"
   ]
  },
  {
   "cell_type": "code",
   "execution_count": 121,
   "metadata": {
    "id": "WndBOK7DXwqk"
   },
   "outputs": [
    {
     "data": {
      "text/plain": [
       "[1, 2, 3, 4, 5]"
      ]
     },
     "execution_count": 121,
     "metadata": {},
     "output_type": "execute_result"
    }
   ],
   "source": [
    "mylist = [1, 2, 3, 4, 5]\n",
    "mylist"
   ]
  },
  {
   "cell_type": "code",
   "execution_count": 122,
   "metadata": {
    "id": "qVZF6qydXyQa"
   },
   "outputs": [
    {
     "data": {
      "text/plain": [
       "1"
      ]
     },
     "execution_count": 122,
     "metadata": {},
     "output_type": "execute_result"
    }
   ],
   "source": [
    "mylist[0]"
   ]
  },
  {
   "cell_type": "code",
   "execution_count": 123,
   "metadata": {
    "id": "0CUByTZgX1yF"
   },
   "outputs": [],
   "source": [
    "mylist[0] = 100"
   ]
  },
  {
   "cell_type": "code",
   "execution_count": 124,
   "metadata": {
    "id": "p841RzROX4C4"
   },
   "outputs": [
    {
     "data": {
      "text/plain": [
       "[100, 2, 3, 4, 5]"
      ]
     },
     "execution_count": 124,
     "metadata": {},
     "output_type": "execute_result"
    }
   ],
   "source": [
    "mylist"
   ]
  },
  {
   "cell_type": "code",
   "execution_count": 125,
   "metadata": {
    "id": "O_VdrWZCBxiT"
   },
   "outputs": [],
   "source": [
    "mylist[-1] = 300"
   ]
  },
  {
   "cell_type": "code",
   "execution_count": 126,
   "metadata": {
    "id": "kLL0oa0GB0D9"
   },
   "outputs": [
    {
     "data": {
      "text/plain": [
       "[100, 2, 3, 4, 300]"
      ]
     },
     "execution_count": 126,
     "metadata": {},
     "output_type": "execute_result"
    }
   ],
   "source": [
    "mylist"
   ]
  },
  {
   "cell_type": "markdown",
   "metadata": {
    "id": "oMoED0ZjCiuJ"
   },
   "source": [
    "### 중첩된 리스트 인덱싱\n",
    "\n",
    "중첩된 리스트에 대한 리스트는 중첩 인덱싱으로 접근합니다. 값을 변경하는 것도 가능합니다."
   ]
  },
  {
   "cell_type": "code",
   "execution_count": 128,
   "metadata": {
    "id": "7zq8_J2VCk1K"
   },
   "outputs": [],
   "source": [
    "mylist = [['가', '나', '다'], [4, 5, 6], 7, 8, 9]"
   ]
  },
  {
   "cell_type": "code",
   "execution_count": 129,
   "metadata": {
    "id": "atfiWonnCps3"
   },
   "outputs": [
    {
     "data": {
      "text/plain": [
       "[['가', '나', '다'], [4, 5, 6], 7, 8, 9]"
      ]
     },
     "execution_count": 129,
     "metadata": {},
     "output_type": "execute_result"
    }
   ],
   "source": [
    "mylist"
   ]
  },
  {
   "cell_type": "markdown",
   "metadata": {
    "id": "A_B6DNx0cgXM"
   },
   "source": [
    "1 번째 리스트 요소를 가져옵니다."
   ]
  },
  {
   "cell_type": "code",
   "execution_count": 130,
   "metadata": {
    "id": "yaa8MwGFCydQ"
   },
   "outputs": [
    {
     "data": {
      "text/plain": [
       "[4, 5, 6]"
      ]
     },
     "execution_count": 130,
     "metadata": {},
     "output_type": "execute_result"
    }
   ],
   "source": [
    "mylist[1]"
   ]
  },
  {
   "cell_type": "markdown",
   "metadata": {
    "id": "ijnFOY_FcgXM"
   },
   "source": [
    "1번째 리스트의 요소 중 1번째 요소를 가져오기 위해서는 중첩 인덱싱으로 접근합니다."
   ]
  },
  {
   "cell_type": "code",
   "execution_count": 131,
   "metadata": {
    "id": "MeunbeUJCqwG"
   },
   "outputs": [
    {
     "data": {
      "text/plain": [
       "5"
      ]
     },
     "execution_count": 131,
     "metadata": {},
     "output_type": "execute_result"
    }
   ],
   "source": [
    "mylist[1][1]"
   ]
  },
  {
   "cell_type": "code",
   "execution_count": 132,
   "metadata": {
    "id": "eJ2WkRQHcgXN"
   },
   "outputs": [],
   "source": [
    "mylist[1][1] = 99"
   ]
  },
  {
   "cell_type": "code",
   "execution_count": 135,
   "metadata": {
    "id": "svKqsaMAcgXN"
   },
   "outputs": [
    {
     "data": {
      "text/plain": [
       "[['가', '나', '다'], [4, 99, 6], 7, 8, 9]"
      ]
     },
     "execution_count": 135,
     "metadata": {},
     "output_type": "execute_result"
    }
   ],
   "source": [
    "mylist"
   ]
  },
  {
   "cell_type": "markdown",
   "metadata": {
    "id": "Lk3yqujcB17e"
   },
   "source": [
    "### 슬라이싱(Slicing): 범위 추출\n",
    "\n",
    "- 슬라이싱의 활용: [start:stop:step] 을 명시하여 부분을 추출할 수 있습니다."
   ]
  },
  {
   "cell_type": "code",
   "execution_count": 136,
   "metadata": {
    "id": "Lt-oJ8cyB8cg"
   },
   "outputs": [],
   "source": [
    "mylist = [100, 200, 300, 400, 500]"
   ]
  },
  {
   "cell_type": "markdown",
   "metadata": {
    "id": "3uetfPWRcgXN"
   },
   "source": [
    "[:]을 활용하여 전체를 추출할 수 있습니다."
   ]
  },
  {
   "cell_type": "code",
   "execution_count": 137,
   "metadata": {
    "id": "LlxZGt5ScgXN"
   },
   "outputs": [
    {
     "data": {
      "text/plain": [
       "[100, 200, 300, 400, 500]"
      ]
     },
     "execution_count": 137,
     "metadata": {},
     "output_type": "execute_result"
    }
   ],
   "source": [
    "mylist[:]"
   ]
  },
  {
   "cell_type": "markdown",
   "metadata": {
    "id": "ZZUcYYADcgXO"
   },
   "source": [
    "[start:]는 시작 index 부터 끝까지 추출합니다."
   ]
  },
  {
   "cell_type": "code",
   "execution_count": 138,
   "metadata": {
    "id": "d_gcUsl-cgXO"
   },
   "outputs": [
    {
     "data": {
      "text/plain": [
       "[300, 400, 500]"
      ]
     },
     "execution_count": 138,
     "metadata": {},
     "output_type": "execute_result"
    }
   ],
   "source": [
    "mylist[2:]"
   ]
  },
  {
   "cell_type": "code",
   "execution_count": 139,
   "metadata": {
    "id": "gj-I9-Y8cgXO"
   },
   "outputs": [
    {
     "data": {
      "text/plain": [
       "[300, 400, 500]"
      ]
     },
     "execution_count": 139,
     "metadata": {},
     "output_type": "execute_result"
    }
   ],
   "source": [
    "mylist[-3:]"
   ]
  },
  {
   "cell_type": "markdown",
   "metadata": {
    "id": "ortJeJu2cgXO"
   },
   "source": [
    "[:end]는 처음부터 end 전까지 추출합니다."
   ]
  },
  {
   "cell_type": "code",
   "execution_count": 140,
   "metadata": {
    "id": "YetcbGj3cgXO"
   },
   "outputs": [
    {
     "data": {
      "text/plain": [
       "[100, 200, 300]"
      ]
     },
     "execution_count": 140,
     "metadata": {},
     "output_type": "execute_result"
    }
   ],
   "source": [
    "mylist[:3]"
   ]
  },
  {
   "cell_type": "markdown",
   "metadata": {
    "id": "CYTO8yWucgXP"
   },
   "source": [
    "[start:end]는 start부터 end 전까지 추출합니다."
   ]
  },
  {
   "cell_type": "code",
   "execution_count": 141,
   "metadata": {
    "id": "rav_w8CYB5Pn"
   },
   "outputs": [
    {
     "data": {
      "text/plain": [
       "[200, 300]"
      ]
     },
     "execution_count": 141,
     "metadata": {},
     "output_type": "execute_result"
    }
   ],
   "source": [
    "mylist[1:3]"
   ]
  },
  {
   "cell_type": "code",
   "execution_count": 142,
   "metadata": {
    "id": "1VfFQEdMB7Kc"
   },
   "outputs": [
    {
     "data": {
      "text/plain": [
       "[300, 400]"
      ]
     },
     "execution_count": 142,
     "metadata": {},
     "output_type": "execute_result"
    }
   ],
   "source": [
    "mylist[-3: -1]"
   ]
  },
  {
   "cell_type": "markdown",
   "metadata": {
    "id": "Opa0KIuJcgXP"
   },
   "source": [
    "## 연습문제"
   ]
  },
  {
   "cell_type": "code",
   "execution_count": 143,
   "metadata": {
    "id": "vZtzFJtOlQGA"
   },
   "outputs": [],
   "source": [
    "fruit = ['사과', '바나나', '파인애플', '배', '수박', '키위', '오렌지', '망고', '딸기']"
   ]
  },
  {
   "cell_type": "markdown",
   "metadata": {
    "id": "ZO9-b0FXlQB_"
   },
   "source": [
    "list **인덱싱** & **슬라이싱**을 사용하여 다음과 같이 출력 하세요"
   ]
  },
  {
   "cell_type": "code",
   "execution_count": 148,
   "metadata": {
    "id": "ag-1JlpllPyM"
   },
   "outputs": [
    {
     "data": {
      "text/plain": [
       "['파인애플', '배', '수박']"
      ]
     },
     "execution_count": 148,
     "metadata": {},
     "output_type": "execute_result"
    }
   ],
   "source": [
    "# 코드를 입력해 주세요\n",
    "fruit[2:5]"
   ]
  },
  {
   "cell_type": "markdown",
   "metadata": {
    "id": "UEzyWXpUcgXQ"
   },
   "source": [
    "<p><strong>[출력 결과]</strong></p><pre>['파인애플', '배', '수박']</pre>"
   ]
  },
  {
   "cell_type": "code",
   "execution_count": 149,
   "metadata": {
    "id": "0LRqKruin8YG"
   },
   "outputs": [
    {
     "data": {
      "text/plain": [
       "['망고', '딸기']"
      ]
     },
     "execution_count": 149,
     "metadata": {},
     "output_type": "execute_result"
    }
   ],
   "source": [
    "# 코드를 입력해 주세요\n",
    "fruit[-2:]"
   ]
  },
  {
   "cell_type": "markdown",
   "metadata": {
    "id": "AZjXRFb9cgXQ"
   },
   "source": [
    "<p><strong>[출력 결과]</strong></p><pre>['망고', '딸기']</pre>"
   ]
  },
  {
   "cell_type": "code",
   "execution_count": 150,
   "metadata": {
    "id": "M2FntdLxoCN4"
   },
   "outputs": [
    {
     "data": {
      "text/plain": [
       "['사과', '바나나', '파인애플']"
      ]
     },
     "execution_count": 150,
     "metadata": {},
     "output_type": "execute_result"
    }
   ],
   "source": [
    "# 코드를 입력해 주세요\n",
    "fruit[:3]"
   ]
  },
  {
   "cell_type": "markdown",
   "metadata": {
    "id": "DBG4Ck9mcgXQ"
   },
   "source": [
    "<p><strong>[출력 결과]</strong></p><pre>['사과', '바나나', '파인애플']</pre>"
   ]
  },
  {
   "cell_type": "code",
   "execution_count": 151,
   "metadata": {
    "id": "8tdoEreLoC7Y"
   },
   "outputs": [
    {
     "data": {
      "text/plain": [
       "['배', '수박', '키위', '오렌지', '망고', '딸기']"
      ]
     },
     "execution_count": 151,
     "metadata": {},
     "output_type": "execute_result"
    }
   ],
   "source": [
    "# 코드를 입력해 주세요\n",
    "fruit[3:]"
   ]
  },
  {
   "cell_type": "markdown",
   "metadata": {
    "id": "uYLnKSHvcgXR"
   },
   "source": [
    "<p><strong>[출력 결과]</strong></p><pre>['배', '수박', '키위', '오렌지', '망고', '딸기']</pre>"
   ]
  },
  {
   "cell_type": "markdown",
   "metadata": {
    "id": "yW2psuKpcgXR"
   },
   "source": [
    "## indexing 에 step 활용하기\n",
    "\n",
    "list[start:stop:step]\n",
    "\n",
    "- step은 몇 칸씩 건너 뛰는지 지정합니다."
   ]
  },
  {
   "cell_type": "code",
   "execution_count": 152,
   "metadata": {
    "id": "9rOT3phDcgXR"
   },
   "outputs": [],
   "source": [
    "mylist = [100, 200, 300, 400, 500]"
   ]
  },
  {
   "cell_type": "markdown",
   "metadata": {
    "id": "g1WagDZIcgXR"
   },
   "source": [
    "**2칸**씩 건너뛰기"
   ]
  },
  {
   "cell_type": "code",
   "execution_count": 153,
   "metadata": {
    "id": "D4g325mkcgXR"
   },
   "outputs": [
    {
     "data": {
      "text/plain": [
       "[100, 300, 500]"
      ]
     },
     "execution_count": 153,
     "metadata": {},
     "output_type": "execute_result"
    }
   ],
   "source": [
    "mylist[::2]"
   ]
  },
  {
   "cell_type": "markdown",
   "metadata": {
    "id": "d8PbS7H_cgXR"
   },
   "source": [
    "**역순** 출력"
   ]
  },
  {
   "cell_type": "code",
   "execution_count": 154,
   "metadata": {
    "id": "gLiZA4VEcgXU"
   },
   "outputs": [
    {
     "data": {
      "text/plain": [
       "[500, 400, 300, 200, 100]"
      ]
     },
     "execution_count": 154,
     "metadata": {},
     "output_type": "execute_result"
    }
   ],
   "source": [
    "mylist[::-1]"
   ]
  },
  {
   "cell_type": "markdown",
   "metadata": {
    "id": "PTCF7gc6cgXV"
   },
   "source": [
    "역순 그리고 **2칸씩** 건너뛰기"
   ]
  },
  {
   "cell_type": "code",
   "execution_count": 155,
   "metadata": {
    "id": "EHWHi-3tcgXV"
   },
   "outputs": [
    {
     "data": {
      "text/plain": [
       "[500, 300, 100]"
      ]
     },
     "execution_count": 155,
     "metadata": {},
     "output_type": "execute_result"
    }
   ],
   "source": [
    "mylist[::-2]"
   ]
  },
  {
   "cell_type": "code",
   "execution_count": 156,
   "metadata": {
    "id": "30jcpRxINKBM"
   },
   "outputs": [
    {
     "data": {
      "text/plain": [
       "[100, 200, 300, 400, 500]"
      ]
     },
     "execution_count": 156,
     "metadata": {},
     "output_type": "execute_result"
    }
   ],
   "source": [
    "mylist"
   ]
  },
  {
   "cell_type": "code",
   "execution_count": 157,
   "metadata": {
    "id": "U_ntjhL8NEA4"
   },
   "outputs": [
    {
     "data": {
      "text/plain": [
       "[200, 400]"
      ]
     },
     "execution_count": 157,
     "metadata": {},
     "output_type": "execute_result"
    }
   ],
   "source": [
    "mylist[1::2]"
   ]
  },
  {
   "cell_type": "code",
   "execution_count": 158,
   "metadata": {
    "id": "Cvi-e1PKNLz_"
   },
   "outputs": [
    {
     "data": {
      "text/plain": [
       "[400, 200]"
      ]
     },
     "execution_count": 158,
     "metadata": {},
     "output_type": "execute_result"
    }
   ],
   "source": [
    "mylist[-2::-2]"
   ]
  },
  {
   "cell_type": "markdown",
   "metadata": {
    "id": "ptw8hALtmcIY"
   },
   "source": [
    "### list 덧셈: list 확장"
   ]
  },
  {
   "cell_type": "code",
   "execution_count": 160,
   "metadata": {
    "id": "6AY5OCBUmm6W"
   },
   "outputs": [],
   "source": [
    "a = [1, 2, 3, 4]\n",
    "b = [5, 6, 7, 8]"
   ]
  },
  {
   "cell_type": "code",
   "execution_count": 161,
   "metadata": {
    "id": "Vh4kSzvimpSM"
   },
   "outputs": [
    {
     "data": {
      "text/plain": [
       "[1, 2, 3, 4, 5, 6, 7, 8]"
      ]
     },
     "execution_count": 161,
     "metadata": {},
     "output_type": "execute_result"
    }
   ],
   "source": [
    "a + b"
   ]
  },
  {
   "cell_type": "code",
   "execution_count": 162,
   "metadata": {
    "id": "lmDtkjFWcgXV"
   },
   "outputs": [],
   "source": [
    "a = ['a', 'b', 'c']\n",
    "b = ['d', 'e', 'f']"
   ]
  },
  {
   "cell_type": "code",
   "execution_count": 163,
   "metadata": {
    "id": "Nd7plO0ecgXW"
   },
   "outputs": [
    {
     "data": {
      "text/plain": [
       "['a', 'b', 'c', 'd', 'e', 'f']"
      ]
     },
     "execution_count": 163,
     "metadata": {},
     "output_type": "execute_result"
    }
   ],
   "source": [
    "a + b"
   ]
  },
  {
   "cell_type": "markdown",
   "metadata": {
    "id": "kd8wNXq-cgXW"
   },
   "source": [
    "### list 곱셈: list 반복"
   ]
  },
  {
   "cell_type": "code",
   "execution_count": 236,
   "metadata": {
    "id": "p3T5v4W-cgXW"
   },
   "outputs": [],
   "source": [
    "a = ['a', 'b', 'c']\n",
    "b = [1, 2, 3, 4]"
   ]
  },
  {
   "cell_type": "code",
   "execution_count": 237,
   "metadata": {},
   "outputs": [
    {
     "data": {
      "text/plain": [
       "['a', 'b', 'c', 1, 2, 3, 4]"
      ]
     },
     "execution_count": 237,
     "metadata": {},
     "output_type": "execute_result"
    }
   ],
   "source": [
    "a + b"
   ]
  },
  {
   "cell_type": "code",
   "execution_count": 238,
   "metadata": {
    "id": "RHkI26zzm0Jm"
   },
   "outputs": [
    {
     "data": {
      "text/plain": [
       "['a', 'b', 'c', 'a', 'b', 'c']"
      ]
     },
     "execution_count": 238,
     "metadata": {},
     "output_type": "execute_result"
    }
   ],
   "source": [
    "a * 2"
   ]
  },
  {
   "cell_type": "code",
   "execution_count": 239,
   "metadata": {
    "id": "aKslp1d_myjj"
   },
   "outputs": [
    {
     "data": {
      "text/plain": [
       "[1, 2, 3, 4, 1, 2, 3, 4, 1, 2, 3, 4]"
      ]
     },
     "execution_count": 239,
     "metadata": {},
     "output_type": "execute_result"
    }
   ],
   "source": [
    "b * 3"
   ]
  },
  {
   "cell_type": "code",
   "execution_count": 169,
   "metadata": {
    "id": "NP22dxkCNyqr"
   },
   "outputs": [
    {
     "ename": "TypeError",
     "evalue": "can't multiply sequence by non-int of type 'list'",
     "output_type": "error",
     "traceback": [
      "\u001b[0;31m---------------------------------------------------------------------------\u001b[0m",
      "\u001b[0;31mTypeError\u001b[0m                                 Traceback (most recent call last)",
      "Cell \u001b[0;32mIn[169], line 1\u001b[0m\n\u001b[0;32m----> 1\u001b[0m \u001b[43ma\u001b[49m\u001b[43m \u001b[49m\u001b[38;5;241;43m*\u001b[39;49m\u001b[43m \u001b[49m\u001b[43mb\u001b[49m\n",
      "\u001b[0;31mTypeError\u001b[0m: can't multiply sequence by non-int of type 'list'"
     ]
    }
   ],
   "source": [
    "a * b"
   ]
  },
  {
   "cell_type": "markdown",
   "metadata": {
    "id": "KU1npbc5cgXW"
   },
   "source": [
    "### 연습문제 1\n",
    "\n",
    "sample = [1, 3, 5, 4, 2] 리스트를 슬라이싱을 이용하여 [2, 4, 5, 3, 1]로 출력하세요"
   ]
  },
  {
   "cell_type": "code",
   "execution_count": 173,
   "metadata": {
    "id": "mHYYlteecgXW"
   },
   "outputs": [],
   "source": [
    "sample = [1, 3, 5, 4, 2]"
   ]
  },
  {
   "cell_type": "markdown",
   "metadata": {
    "id": "N0L-K4eycgXX"
   },
   "source": [
    "슬라이싱을 사용해 다음과 같이 출력해 주세요"
   ]
  },
  {
   "cell_type": "code",
   "execution_count": 172,
   "metadata": {
    "id": "zQdd3ZJfcgXX"
   },
   "outputs": [
    {
     "data": {
      "text/plain": [
       "[2, 4, 5, 3, 1]"
      ]
     },
     "execution_count": 172,
     "metadata": {},
     "output_type": "execute_result"
    }
   ],
   "source": [
    "# 코드를 입력해 주세요\n",
    "sample[::-1]"
   ]
  },
  {
   "cell_type": "markdown",
   "metadata": {
    "id": "1sKjKkzAcgXX"
   },
   "source": [
    "<p><strong>[출력 결과]</strong></p><pre>[2, 4, 5, 3, 1]</pre>"
   ]
  },
  {
   "cell_type": "markdown",
   "metadata": {
    "id": "1OvEx4SkcgXX"
   },
   "source": [
    "슬라이싱을 사용해 다음과 같이 출력해 주세요"
   ]
  },
  {
   "cell_type": "code",
   "execution_count": 175,
   "metadata": {
    "id": "lJA3FlducgXX"
   },
   "outputs": [
    {
     "data": {
      "text/plain": [
       "[1, 5, 2]"
      ]
     },
     "execution_count": 175,
     "metadata": {},
     "output_type": "execute_result"
    }
   ],
   "source": [
    "# 코드를 입력해 주세요\n",
    "sample[::2]"
   ]
  },
  {
   "cell_type": "markdown",
   "metadata": {
    "id": "Mgj141MQcgXX"
   },
   "source": [
    "<p><strong>[출력 결과]</strong></p><pre>[1, 5, 2]</pre>"
   ]
  },
  {
   "cell_type": "markdown",
   "metadata": {
    "id": "c3BUSj2ncgXY"
   },
   "source": [
    "슬라이싱을 사용해 다음과 같이 출력해 주세요"
   ]
  },
  {
   "cell_type": "code",
   "execution_count": 176,
   "metadata": {
    "id": "_ykHb6H0cgXY"
   },
   "outputs": [
    {
     "data": {
      "text/plain": [
       "[5, 1]"
      ]
     },
     "execution_count": 176,
     "metadata": {},
     "output_type": "execute_result"
    }
   ],
   "source": [
    "# 코드를 입력해 주세요\n",
    "sample[2::-2]"
   ]
  },
  {
   "cell_type": "markdown",
   "metadata": {
    "id": "1pkSppmUcgXY"
   },
   "source": [
    "<p><strong>[출력 결과]</strong></p><pre>[5, 1]</pre>"
   ]
  },
  {
   "cell_type": "markdown",
   "metadata": {
    "id": "0_mJjKgJ3PXj"
   },
   "source": [
    "### 연습문제 2\n",
    "\n",
    "- 아래의 값을 저장하고 있는 `myList` 변수를 생성하세요.\n",
    "- [[1,2,3],[4,5,6],[7,8]]"
   ]
  },
  {
   "cell_type": "code",
   "execution_count": 184,
   "metadata": {
    "id": "cYw8v3Wc3PXj"
   },
   "outputs": [
    {
     "data": {
      "text/plain": [
       "[[1, 2, 3], [4, 5, 6], [7, 8]]"
      ]
     },
     "execution_count": 184,
     "metadata": {},
     "output_type": "execute_result"
    }
   ],
   "source": [
    "myList = [[1,2,3],[4,5,6],[7,8]]\n",
    "myList"
   ]
  },
  {
   "cell_type": "markdown",
   "metadata": {
    "id": "huln3pHGqluk"
   },
   "source": [
    "- 9를 `myList`에 추가하여 아래의 값을 저장할 수 있도록 하세요.\n",
    "    - [[1,2,3],[4,5,6],[7,8,9]]"
   ]
  },
  {
   "cell_type": "code",
   "execution_count": 192,
   "metadata": {
    "id": "fQwG-KLiq_Aq"
   },
   "outputs": [
    {
     "data": {
      "text/plain": [
       "[[1, 2, 3], [4, 5, 6], [7, 8, 9]]"
      ]
     },
     "execution_count": 192,
     "metadata": {},
     "output_type": "execute_result"
    }
   ],
   "source": [
    "# 코드를 입력해 주세요\n",
    "myList[2].append(9)\n",
    "myList"
   ]
  },
  {
   "cell_type": "markdown",
   "metadata": {
    "id": "RTzDXq3ZcgXZ"
   },
   "source": [
    "<p><strong>[출력 결과]</strong></p><pre>[[1, 2, 3], [4, 5, 6], [7, 8, 9]]</pre>"
   ]
  },
  {
   "cell_type": "markdown",
   "metadata": {
    "id": "6f1LiPaaWA6a"
   },
   "source": [
    "## 튜플(tuple)\n",
    "\n",
    "- 리스트(list)는 가변(mutable)하는 객체(object)이지만, **튜플(tuple)은 불변(immutable)한 객체**입니다.\n",
    "- 가변 객체는 요소에 대한 수정, 삭제, 변경 등이 가능하지만, 불편 객체는 **요소에 대한 수정, 삭제, 변경이 불가**합니다."
   ]
  },
  {
   "cell_type": "markdown",
   "metadata": {
    "id": "NKvYG65EDCQg"
   },
   "source": [
    "### 생성\n",
    "\n",
    "- tuple(), () 로 생성합니다.\n",
    "- 혹은 , 로 생성할 수 있습니다."
   ]
  },
  {
   "cell_type": "markdown",
   "metadata": {
    "id": "n1EYdsblcgXZ"
   },
   "source": [
    "**()로 튜플을 생성**할 수 있습니다."
   ]
  },
  {
   "cell_type": "code",
   "execution_count": 193,
   "metadata": {
    "id": "Lj0AaIGkWMng"
   },
   "outputs": [
    {
     "data": {
      "text/plain": [
       "(1, 2, 3)"
      ]
     },
     "execution_count": 193,
     "metadata": {},
     "output_type": "execute_result"
    }
   ],
   "source": [
    "mytuple = (1, 2, 3)\n",
    "mytuple"
   ]
  },
  {
   "cell_type": "markdown",
   "metadata": {
    "id": "MLL_VBvEcgXZ"
   },
   "source": [
    "**tuple()** 로 생성하는 경우"
   ]
  },
  {
   "cell_type": "code",
   "execution_count": 194,
   "metadata": {
    "id": "kIfJ2eCcDnSH"
   },
   "outputs": [
    {
     "data": {
      "text/plain": [
       "(1, 2, 3)"
      ]
     },
     "execution_count": 194,
     "metadata": {},
     "output_type": "execute_result"
    }
   ],
   "source": [
    "mytuple = tuple([1, 2, 3])\n",
    "mytuple"
   ]
  },
  {
   "cell_type": "markdown",
   "metadata": {
    "id": "tMa93r1JcgXa"
   },
   "source": [
    "**, 로 생성**할 수 있습니다."
   ]
  },
  {
   "cell_type": "code",
   "execution_count": 195,
   "metadata": {
    "id": "iicUD1x0DHu6"
   },
   "outputs": [
    {
     "data": {
      "text/plain": [
       "(1, 2, 3)"
      ]
     },
     "execution_count": 195,
     "metadata": {},
     "output_type": "execute_result"
    }
   ],
   "source": [
    "mytuple = 1, 2, 3\n",
    "mytuple"
   ]
  },
  {
   "cell_type": "markdown",
   "metadata": {
    "id": "3S5MtEDScgXa"
   },
   "source": [
    "**단일 요소를 생성**할 때는 반드시 ,를 붙여 줍니다.\n",
    "- (1,)과 (1)은 다른 자료구조임을 꼭 알고 있어야 합니다."
   ]
  },
  {
   "cell_type": "code",
   "execution_count": 196,
   "metadata": {
    "id": "VvZXlmRncgXa"
   },
   "outputs": [
    {
     "name": "stdout",
     "output_type": "stream",
     "text": [
      "<class 'tuple'>\n"
     ]
    },
    {
     "data": {
      "text/plain": [
       "(1,)"
      ]
     },
     "execution_count": 196,
     "metadata": {},
     "output_type": "execute_result"
    }
   ],
   "source": [
    "mytuple = 1,\n",
    "print(type(mytuple))\n",
    "mytuple"
   ]
  },
  {
   "cell_type": "code",
   "execution_count": 197,
   "metadata": {
    "id": "HrRr2fKMDL2E"
   },
   "outputs": [
    {
     "name": "stdout",
     "output_type": "stream",
     "text": [
      "<class 'tuple'>\n"
     ]
    },
    {
     "data": {
      "text/plain": [
       "(1,)"
      ]
     },
     "execution_count": 197,
     "metadata": {},
     "output_type": "execute_result"
    }
   ],
   "source": [
    "mytuple = (1,)\n",
    "print(type(mytuple))\n",
    "mytuple"
   ]
  },
  {
   "cell_type": "code",
   "execution_count": 198,
   "metadata": {
    "id": "7ZlannGQcgXa"
   },
   "outputs": [
    {
     "name": "stdout",
     "output_type": "stream",
     "text": [
      "<class 'int'>\n"
     ]
    },
    {
     "data": {
      "text/plain": [
       "1"
      ]
     },
     "execution_count": 198,
     "metadata": {},
     "output_type": "execute_result"
    }
   ],
   "source": [
    "mytuple = (1)\n",
    "print(type(mytuple))\n",
    "mytuple"
   ]
  },
  {
   "cell_type": "markdown",
   "metadata": {
    "id": "M11I_rnUcgXb"
   },
   "source": [
    "**튜플 언패킹(unpacking)**\n",
    "- 튜플로 한 번에 **여러 변수에 값을 한 번에 할당**할 수 있습니다."
   ]
  },
  {
   "cell_type": "code",
   "execution_count": 203,
   "metadata": {
    "id": "cRUNDQHYcgXb"
   },
   "outputs": [
    {
     "name": "stdout",
     "output_type": "stream",
     "text": [
      "1 2 3\n"
     ]
    }
   ],
   "source": [
    "a, b,c = 1, 2, 3\n",
    "\n",
    "print(a,b,c)\n"
   ]
  },
  {
   "cell_type": "markdown",
   "metadata": {
    "id": "fbWL3rXvDZou"
   },
   "source": [
    "### 튜플 자료형은 요소의 추가, 삭제, 변경등을 허용하지 않습니다."
   ]
  },
  {
   "cell_type": "code",
   "execution_count": 204,
   "metadata": {
    "id": "3TBwbkblcgXb"
   },
   "outputs": [
    {
     "data": {
      "text/plain": [
       "(1, 2, 3)"
      ]
     },
     "execution_count": 204,
     "metadata": {},
     "output_type": "execute_result"
    }
   ],
   "source": [
    "mytuple = (1, 2, 3)\n",
    "mytuple"
   ]
  },
  {
   "cell_type": "markdown",
   "metadata": {
    "id": "57vPUsS9cgXb"
   },
   "source": [
    "요소를 **조회하는 것은 가능**합니다."
   ]
  },
  {
   "cell_type": "code",
   "execution_count": 205,
   "metadata": {
    "id": "ZbVjb4x7cgXb"
   },
   "outputs": [
    {
     "data": {
      "text/plain": [
       "2"
      ]
     },
     "execution_count": 205,
     "metadata": {},
     "output_type": "execute_result"
    }
   ],
   "source": [
    "mytuple[1]"
   ]
  },
  {
   "cell_type": "markdown",
   "metadata": {
    "id": "axOh9930cgXc"
   },
   "source": [
    "요소를 **변경**하려는 경우"
   ]
  },
  {
   "cell_type": "code",
   "execution_count": null,
   "metadata": {
    "id": "OjCMaaYPcgXc"
   },
   "outputs": [
    {
     "ename": "TypeError",
     "evalue": "'tuple' object does not support item assignment",
     "output_type": "error",
     "traceback": [
      "\u001b[0;31m---------------------------------------------------------------------------\u001b[0m",
      "\u001b[0;31mTypeError\u001b[0m                                 Traceback (most recent call last)",
      "Cell \u001b[0;32mIn[206], line 1\u001b[0m\n\u001b[0;32m----> 1\u001b[0m \u001b[43mmytuple\u001b[49m\u001b[43m[\u001b[49m\u001b[38;5;241;43m1\u001b[39;49m\u001b[43m]\u001b[49m \u001b[38;5;241m=\u001b[39m \u001b[38;5;241m100\u001b[39m\n",
      "\u001b[0;31mTypeError\u001b[0m: 'tuple' object does not support item assignment"
     ]
    }
   ],
   "source": [
    "mytuple[1] = 100 "
   ]
  },
  {
   "cell_type": "markdown",
   "metadata": {
    "id": "c24tbnf9cgXc"
   },
   "source": [
    "요소를 **삭제**하려는 경우"
   ]
  },
  {
   "cell_type": "code",
   "execution_count": 207,
   "metadata": {
    "id": "I2JlBRg8DyLx"
   },
   "outputs": [
    {
     "ename": "TypeError",
     "evalue": "'tuple' object doesn't support item deletion",
     "output_type": "error",
     "traceback": [
      "\u001b[0;31m---------------------------------------------------------------------------\u001b[0m",
      "\u001b[0;31mTypeError\u001b[0m                                 Traceback (most recent call last)",
      "Cell \u001b[0;32mIn[207], line 1\u001b[0m\n\u001b[0;32m----> 1\u001b[0m \u001b[38;5;28;01mdel\u001b[39;00m \u001b[43mmytuple\u001b[49m\u001b[43m[\u001b[49m\u001b[38;5;241;43m1\u001b[39;49m\u001b[43m]\u001b[49m\n",
      "\u001b[0;31mTypeError\u001b[0m: 'tuple' object doesn't support item deletion"
     ]
    }
   ],
   "source": [
    "del mytuple[1]"
   ]
  },
  {
   "cell_type": "markdown",
   "metadata": {
    "id": "wJxLyKDGD1Re"
   },
   "source": [
    "### 튜플 덧셈: 튜플의 확장"
   ]
  },
  {
   "cell_type": "code",
   "execution_count": 208,
   "metadata": {
    "id": "ScZhykwwD7AM"
   },
   "outputs": [],
   "source": [
    "a = (1, 2)\n",
    "b = (3, 4)"
   ]
  },
  {
   "cell_type": "code",
   "execution_count": 209,
   "metadata": {
    "id": "kL1Qav45D-gm"
   },
   "outputs": [
    {
     "data": {
      "text/plain": [
       "(1, 2, 3, 4)"
      ]
     },
     "execution_count": 209,
     "metadata": {},
     "output_type": "execute_result"
    }
   ],
   "source": [
    "a + b"
   ]
  },
  {
   "cell_type": "markdown",
   "metadata": {
    "id": "xLhCaMwVcgXd"
   },
   "source": [
    "### 튜플 곱셈: 튜플의 반복"
   ]
  },
  {
   "cell_type": "code",
   "execution_count": 210,
   "metadata": {
    "id": "UN5cWiqWEAqX"
   },
   "outputs": [
    {
     "data": {
      "text/plain": [
       "(1, 2, 1, 2, 1, 2)"
      ]
     },
     "execution_count": 210,
     "metadata": {},
     "output_type": "execute_result"
    }
   ],
   "source": [
    "a * 3"
   ]
  },
  {
   "cell_type": "code",
   "execution_count": 211,
   "metadata": {
    "id": "wluSgekA9ZT7"
   },
   "outputs": [
    {
     "data": {
      "text/plain": [
       "(1, 2, 1, 2, 1, 2, 1, 2, 1, 2, 1, 2, 1, 2, 1, 2, 1, 2, 1, 2)"
      ]
     },
     "execution_count": 211,
     "metadata": {},
     "output_type": "execute_result"
    }
   ],
   "source": [
    "a * 10"
   ]
  },
  {
   "cell_type": "markdown",
   "metadata": {
    "id": "PhwymGjaXqwU"
   },
   "source": [
    "### 길이 파악하기"
   ]
  },
  {
   "cell_type": "code",
   "execution_count": 212,
   "metadata": {
    "id": "NKr8ATCHcgXd"
   },
   "outputs": [
    {
     "data": {
      "text/plain": [
       "(1, 2, 3)"
      ]
     },
     "execution_count": 212,
     "metadata": {},
     "output_type": "execute_result"
    }
   ],
   "source": [
    "mytuple"
   ]
  },
  {
   "cell_type": "code",
   "execution_count": 213,
   "metadata": {
    "id": "q52SzZNOYIo1"
   },
   "outputs": [
    {
     "data": {
      "text/plain": [
       "3"
      ]
     },
     "execution_count": 213,
     "metadata": {},
     "output_type": "execute_result"
    }
   ],
   "source": [
    "len(mytuple)"
   ]
  },
  {
   "cell_type": "markdown",
   "metadata": {
    "id": "BJ_ejBsNJH6N"
   },
   "source": [
    "### list를 tuple로 변환"
   ]
  },
  {
   "cell_type": "code",
   "execution_count": 214,
   "metadata": {
    "id": "d4syeAlRJU2F"
   },
   "outputs": [],
   "source": [
    "a = [1, 2, 3, 4]"
   ]
  },
  {
   "cell_type": "code",
   "execution_count": 215,
   "metadata": {
    "id": "aAiFPz4EJWUg"
   },
   "outputs": [
    {
     "data": {
      "text/plain": [
       "[1, 2, 3, 4]"
      ]
     },
     "execution_count": 215,
     "metadata": {},
     "output_type": "execute_result"
    }
   ],
   "source": [
    "a"
   ]
  },
  {
   "cell_type": "code",
   "execution_count": 216,
   "metadata": {
    "id": "k2yM_D3nJWsJ"
   },
   "outputs": [
    {
     "data": {
      "text/plain": [
       "list"
      ]
     },
     "execution_count": 216,
     "metadata": {},
     "output_type": "execute_result"
    }
   ],
   "source": [
    "type(a)"
   ]
  },
  {
   "cell_type": "code",
   "execution_count": 217,
   "metadata": {
    "id": "C1XzVIOkJXH_"
   },
   "outputs": [],
   "source": [
    "b = tuple(a)"
   ]
  },
  {
   "cell_type": "code",
   "execution_count": 218,
   "metadata": {
    "id": "nNNg1n1xJYvq"
   },
   "outputs": [
    {
     "data": {
      "text/plain": [
       "(1, 2, 3, 4)"
      ]
     },
     "execution_count": 218,
     "metadata": {},
     "output_type": "execute_result"
    }
   ],
   "source": [
    "b"
   ]
  },
  {
   "cell_type": "code",
   "execution_count": 219,
   "metadata": {
    "id": "-FGh_AhJJZAk"
   },
   "outputs": [
    {
     "data": {
      "text/plain": [
       "tuple"
      ]
     },
     "execution_count": 219,
     "metadata": {},
     "output_type": "execute_result"
    }
   ],
   "source": [
    "type(b)"
   ]
  },
  {
   "cell_type": "markdown",
   "metadata": {
    "id": "5T0yhUiiJZuK"
   },
   "source": [
    "### tuple을 list로 변환"
   ]
  },
  {
   "cell_type": "code",
   "execution_count": 220,
   "metadata": {
    "id": "0OZ27hGpJdGi"
   },
   "outputs": [],
   "source": [
    "a = (1, 2, 3, 4)"
   ]
  },
  {
   "cell_type": "code",
   "execution_count": 221,
   "metadata": {
    "id": "47vB7lQLJeSI"
   },
   "outputs": [
    {
     "data": {
      "text/plain": [
       "(1, 2, 3, 4)"
      ]
     },
     "execution_count": 221,
     "metadata": {},
     "output_type": "execute_result"
    }
   ],
   "source": [
    "a"
   ]
  },
  {
   "cell_type": "code",
   "execution_count": 222,
   "metadata": {
    "id": "fJpB20awJesL"
   },
   "outputs": [
    {
     "data": {
      "text/plain": [
       "tuple"
      ]
     },
     "execution_count": 222,
     "metadata": {},
     "output_type": "execute_result"
    }
   ],
   "source": [
    "type(a)"
   ]
  },
  {
   "cell_type": "code",
   "execution_count": 223,
   "metadata": {
    "id": "oYserJFQJf51"
   },
   "outputs": [],
   "source": [
    "b = list(a)"
   ]
  },
  {
   "cell_type": "code",
   "execution_count": 224,
   "metadata": {
    "id": "P_zDoI-GJidd"
   },
   "outputs": [
    {
     "data": {
      "text/plain": [
       "[1, 2, 3, 4]"
      ]
     },
     "execution_count": 224,
     "metadata": {},
     "output_type": "execute_result"
    }
   ],
   "source": [
    "b"
   ]
  },
  {
   "cell_type": "code",
   "execution_count": 225,
   "metadata": {
    "id": "jtPRpCOHJjDI"
   },
   "outputs": [
    {
     "data": {
      "text/plain": [
       "list"
      ]
     },
     "execution_count": 225,
     "metadata": {},
     "output_type": "execute_result"
    }
   ],
   "source": [
    "type(b)"
   ]
  },
  {
   "cell_type": "markdown",
   "metadata": {
    "id": "zJjaYs4lcgXg"
   },
   "source": [
    "리스트로 type을 변경하였기 때문에 **요소의 추가 및 삭제가 가능**합니다."
   ]
  },
  {
   "cell_type": "code",
   "execution_count": 226,
   "metadata": {
    "id": "e6STgfp_Jjl9"
   },
   "outputs": [
    {
     "data": {
      "text/plain": [
       "[1, 2, 3, 4, 5]"
      ]
     },
     "execution_count": 226,
     "metadata": {},
     "output_type": "execute_result"
    }
   ],
   "source": [
    "b.append(5)\n",
    "b"
   ]
  },
  {
   "cell_type": "code",
   "execution_count": 228,
   "metadata": {
    "id": "37W8x7KHcgXg"
   },
   "outputs": [
    {
     "data": {
      "text/plain": [
       "[1, 4, 5]"
      ]
     },
     "execution_count": 228,
     "metadata": {},
     "output_type": "execute_result"
    }
   ],
   "source": [
    "b.remove(3)\n",
    "b"
   ]
  },
  {
   "cell_type": "markdown",
   "metadata": {
    "id": "nM2jqV66cgXg"
   },
   "source": [
    "요소를 추가 및 삭제한 후 **다시 tuple로 변경**할 수 있습니다."
   ]
  },
  {
   "cell_type": "code",
   "execution_count": 229,
   "metadata": {
    "id": "T7k1LgovJl5y"
   },
   "outputs": [],
   "source": [
    "c = tuple(b)"
   ]
  },
  {
   "cell_type": "code",
   "execution_count": 230,
   "metadata": {
    "id": "brUnfV5fJm_u"
   },
   "outputs": [
    {
     "data": {
      "text/plain": [
       "(1, 4, 5)"
      ]
     },
     "execution_count": 230,
     "metadata": {},
     "output_type": "execute_result"
    }
   ],
   "source": [
    "c"
   ]
  },
  {
   "cell_type": "code",
   "execution_count": 231,
   "metadata": {
    "id": "GfEFncbkJoRw"
   },
   "outputs": [
    {
     "data": {
      "text/plain": [
       "tuple"
      ]
     },
     "execution_count": 231,
     "metadata": {},
     "output_type": "execute_result"
    }
   ],
   "source": [
    "type(c)"
   ]
  },
  {
   "cell_type": "markdown",
   "metadata": {
    "id": "-mx0TG2lcgXh"
   },
   "source": [
    "### 연습문제"
   ]
  },
  {
   "cell_type": "markdown",
   "metadata": {
    "id": "NmCDNaS2cgXh"
   },
   "source": [
    "주어진 tuple `a`를 (1, 100, 2, 3, 4)의 요소를 가지도록 변경해 주세요"
   ]
  },
  {
   "cell_type": "code",
   "execution_count": 232,
   "metadata": {
    "id": "8_NJGIbNcgXi"
   },
   "outputs": [],
   "source": [
    "a = (1, 2, 3, 4)"
   ]
  },
  {
   "cell_type": "code",
   "execution_count": 233,
   "metadata": {
    "id": "K4mx6nEqcgXi"
   },
   "outputs": [
    {
     "data": {
      "text/plain": [
       "[1, 2, 3, 4]"
      ]
     },
     "execution_count": 233,
     "metadata": {},
     "output_type": "execute_result"
    }
   ],
   "source": [
    "# 코드를 입력해 주세요\n",
    "a= list(a)\n",
    "a"
   ]
  },
  {
   "cell_type": "code",
   "execution_count": 234,
   "metadata": {},
   "outputs": [
    {
     "data": {
      "text/plain": [
       "[1, 100, 2, 3, 4]"
      ]
     },
     "execution_count": 234,
     "metadata": {},
     "output_type": "execute_result"
    }
   ],
   "source": [
    "a.insert(1,100)\n",
    "a"
   ]
  },
  {
   "cell_type": "code",
   "execution_count": 235,
   "metadata": {},
   "outputs": [
    {
     "data": {
      "text/plain": [
       "(1, 100, 2, 3, 4)"
      ]
     },
     "execution_count": 235,
     "metadata": {},
     "output_type": "execute_result"
    }
   ],
   "source": [
    "a= tuple(a)\n",
    "a"
   ]
  },
  {
   "cell_type": "markdown",
   "metadata": {
    "id": "LhVzPi6icgXi"
   },
   "source": [
    "<p><strong>[출력 결과]</strong></p><pre>(1, 100, 2, 3, 4)</pre>"
   ]
  }
 ],
 "metadata": {
  "colab": {
   "include_colab_link": true,
   "provenance": []
  },
  "kernelspec": {
   "display_name": "letspython",
   "language": "python",
   "name": "python3"
  },
  "language_info": {
   "codemirror_mode": {
    "name": "ipython",
    "version": 3
   },
   "file_extension": ".py",
   "mimetype": "text/x-python",
   "name": "python",
   "nbconvert_exporter": "python",
   "pygments_lexer": "ipython3",
   "version": "3.13.1"
  }
 },
 "nbformat": 4,
 "nbformat_minor": 0
}
