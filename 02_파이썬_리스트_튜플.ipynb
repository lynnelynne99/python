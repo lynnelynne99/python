{
  "nbformat": 4,
  "nbformat_minor": 0,
  "metadata": {
    "colab": {
      "provenance": [],
      "include_colab_link": true
    },
    "kernelspec": {
      "display_name": "Python 3",
      "language": "python",
      "name": "python3"
    },
    "language_info": {
      "codemirror_mode": {
        "name": "ipython",
        "version": 3
      },
      "file_extension": ".py",
      "mimetype": "text/x-python",
      "name": "python",
      "nbconvert_exporter": "python",
      "pygments_lexer": "ipython3",
      "version": "3.6.9"
    }
  },
  "cells": [
    {
      "cell_type": "markdown",
      "metadata": {
        "id": "view-in-github",
        "colab_type": "text"
      },
      "source": [
        "<a href=\"https://colab.research.google.com/github/lynnelynne99/python/blob/main/02_%ED%8C%8C%EC%9D%B4%EC%8D%AC_%EB%A6%AC%EC%8A%A4%ED%8A%B8_%ED%8A%9C%ED%94%8C.ipynb\" target=\"_parent\"><img src=\"https://colab.research.google.com/assets/colab-badge.svg\" alt=\"Open In Colab\"/></a>"
      ]
    },
    {
      "cell_type": "markdown",
      "metadata": {
        "id": "KgAFjs7iUREl"
      },
      "source": [
        "# 시퀀스, 집합형 자료구조"
      ]
    },
    {
      "cell_type": "markdown",
      "metadata": {
        "id": "JiAbeX-zcgW6"
      },
      "source": [
        "| 분류             | 타입                 | 특징                                   | 예시                     |\n",
        "| ---------------- | -------------------- | -------------------------------------- | ------------------------ |\n",
        "| 시퀀스(sequence) | 리스트(list)         | 순서가 있고, 가변(mutable)             | [1, 2, 3]                |\n",
        "| 시퀀스(sequence) | 튜플(tuple)          | 순서가 있고, 불변(immutable)           | (1, 2, 3)                |\n",
        "| 세트(set)        | 세트(set)            | 순서가 없고, 중복을 허용하지 않음      | {1, 2, 3}                |\n",
        "| 맵(map)          | 딕셔너리(dictionary) | 순서가 없고, key/value 쌍으로 이루어짐 | {'a': 1, 'b': 2, 'c': 3} |"
      ]
    },
    {
      "cell_type": "markdown",
      "metadata": {
        "id": "d610lQinUwSN"
      },
      "source": [
        "## 리스트(list)\n",
        "\n",
        "- 리스트는 데이터의 요소를 순차적으로 파악하는데 용이한 자료형 입니다.\n",
        "- 리스트는 다양한 메서드(method) 혹은 함수를 지원하며 메서드를 활용하여 요소를 추가, 삭제 및 변경할 수 있습니다.\n",
        "\n",
        "**메서드(method)**: 객체(object)가 포함하는 함수 혹은 기능입니다. 함수에 대한 내용은 추후에 다룹니다."
      ]
    },
    {
      "cell_type": "markdown",
      "metadata": {
        "id": "Twq31zuC0xJJ"
      },
      "source": [
        "### 생성"
      ]
    },
    {
      "cell_type": "markdown",
      "metadata": {
        "id": "g-HX7XnQU5zN"
      },
      "source": [
        "[] 형태로 표현합니다."
      ]
    },
    {
      "cell_type": "markdown",
      "metadata": {
        "id": "x1yU3DI-cgW7"
      },
      "source": [
        "빈 리스트를 생성합니다."
      ]
    },
    {
      "cell_type": "code",
      "metadata": {
        "id": "xSAez-0xU_sg"
      },
      "source": [
        "mylist = []\n",
        "mylist"
      ],
      "execution_count": null,
      "outputs": []
    },
    {
      "cell_type": "code",
      "metadata": {
        "id": "CDyUdGJVcgW8"
      },
      "source": [
        "mylist = list()\n",
        "mylist"
      ],
      "execution_count": null,
      "outputs": []
    },
    {
      "cell_type": "markdown",
      "metadata": {
        "id": "rboSudWScgW9"
      },
      "source": [
        "리스트를 생성하면서 값을 포함합니다."
      ]
    },
    {
      "cell_type": "code",
      "metadata": {
        "id": "IVS7djx4U0KS"
      },
      "source": [
        "mylist = [1, 3, 2, 4, 5]\n",
        "mylist"
      ],
      "execution_count": null,
      "outputs": []
    },
    {
      "cell_type": "markdown",
      "metadata": {
        "id": "SxrF2tkJz26f"
      },
      "source": [
        "### list 규칙"
      ]
    },
    {
      "cell_type": "markdown",
      "metadata": {
        "id": "C1SLDi69z5ag"
      },
      "source": [
        "* list는 다양한 type의 데이터를 집합으로 가집니다.\n",
        "* list안에 list도 허용합니다.\n",
        "* list는 순서(order)의 개념이 존재합니다."
      ]
    },
    {
      "cell_type": "code",
      "metadata": {
        "id": "TZimFWErz6KT"
      },
      "source": [
        "a = []"
      ],
      "execution_count": null,
      "outputs": []
    },
    {
      "cell_type": "code",
      "metadata": {
        "id": "gF2NT1YW_5bz"
      },
      "source": [
        "a"
      ],
      "execution_count": null,
      "outputs": []
    },
    {
      "cell_type": "code",
      "metadata": {
        "id": "rhAQ23ymz8W6"
      },
      "source": [
        "a = [1, 2, 3]\n",
        "a"
      ],
      "execution_count": null,
      "outputs": []
    },
    {
      "cell_type": "code",
      "metadata": {
        "id": "RRoIj9ISz92M"
      },
      "source": [
        "a = [1, 'hello', 3, 3.14, True]\n",
        "a"
      ],
      "execution_count": null,
      "outputs": []
    },
    {
      "cell_type": "markdown",
      "metadata": {
        "id": "nM_LJznJcgW-"
      },
      "source": [
        "리스트 안에 리스트로 포함할 수 있습니다."
      ]
    },
    {
      "cell_type": "code",
      "metadata": {
        "id": "2fdiq1bc0B3G"
      },
      "source": [
        "a = [1, 'hello', 3, 3.14, [6, 7, '8']]\n",
        "a"
      ],
      "execution_count": null,
      "outputs": []
    },
    {
      "cell_type": "markdown",
      "metadata": {
        "id": "JSh4BXzRWUY_"
      },
      "source": [
        "### 관련 함수\n",
        "\n",
        "- . 점 연산자로 함수를 실행할 수 있습니다.\n",
        "- 함수는 어떤 작업을 수행하는 코드를 모아 이름을 붙인 것입니다.\n",
        "- 자세한 내용은 추후 함수 단원에서 배웁니다."
      ]
    },
    {
      "cell_type": "markdown",
      "metadata": {
        "id": "ilJWB7H8qjNa"
      },
      "source": [
        "### append() : 값 추가"
      ]
    },
    {
      "cell_type": "markdown",
      "metadata": {
        "id": "gLBi5RsP2Cjb"
      },
      "source": [
        "빈 리스트를 생성합니다."
      ]
    },
    {
      "cell_type": "code",
      "metadata": {
        "id": "JWnjMkgr1oQb"
      },
      "source": [
        "mylist = []\n",
        "mylist"
      ],
      "execution_count": null,
      "outputs": []
    },
    {
      "cell_type": "markdown",
      "metadata": {
        "id": "jZCHtjoGcgW_"
      },
      "source": [
        "append() 는 값을 맨 뒤에 추가 합니다."
      ]
    },
    {
      "cell_type": "code",
      "metadata": {
        "id": "AYHFOiG2VJEQ"
      },
      "source": [
        "mylist.append(1)\n",
        "mylist"
      ],
      "execution_count": null,
      "outputs": []
    },
    {
      "cell_type": "markdown",
      "metadata": {
        "id": "_QLShecBcgW_"
      },
      "source": [
        "중복된 값을 추가할 수 있으며, 순서가 **유지**됩니다."
      ]
    },
    {
      "cell_type": "code",
      "metadata": {
        "id": "LBBwfWxRVK6E"
      },
      "source": [
        "mylist.append(7)\n",
        "mylist.append(7)\n",
        "mylist.append(7)\n",
        "mylist.append(3)\n",
        "mylist.append(5)\n",
        "mylist.append(2)\n",
        "mylist"
      ],
      "execution_count": null,
      "outputs": []
    },
    {
      "cell_type": "markdown",
      "metadata": {
        "id": "mwaKcYsRWatD"
      },
      "source": [
        "### sort() : 정렬"
      ]
    },
    {
      "cell_type": "markdown",
      "metadata": {
        "id": "TkuM5mqM1-r-"
      },
      "source": [
        "- 요소를 순서대로 정렬합니다 (오름차순)\n",
        "- sort()는 내부적으로 정렬 합니다."
      ]
    },
    {
      "cell_type": "code",
      "metadata": {
        "id": "ZjRQXZAHWccX"
      },
      "source": [
        "mylist = [1, 6, 3, 2, 7, 5, 4]\n",
        "mylist.sort()"
      ],
      "execution_count": null,
      "outputs": []
    },
    {
      "cell_type": "code",
      "metadata": {
        "id": "amuUCcPl17Hq"
      },
      "source": [
        "mylist"
      ],
      "execution_count": null,
      "outputs": []
    },
    {
      "cell_type": "markdown",
      "metadata": {
        "id": "EaHHAmqlcgXA"
      },
      "source": [
        "역정렬(reverse order)도 가능합니다. (`reverse=True`를 지정합니다.)"
      ]
    },
    {
      "cell_type": "code",
      "metadata": {
        "id": "BdCWTN-wcgXB"
      },
      "source": [
        "mylist = [1, 6, 3, 2, 7, 5, 4]\n",
        "mylist.sort(reverse=True)"
      ],
      "execution_count": null,
      "outputs": []
    },
    {
      "cell_type": "code",
      "metadata": {
        "id": "v592Eh_ycgXB"
      },
      "source": [
        "mylist"
      ],
      "execution_count": null,
      "outputs": []
    },
    {
      "cell_type": "markdown",
      "metadata": {
        "id": "mXtpy3CIcgXB"
      },
      "source": [
        "### sorted() : 정렬\n",
        "\n",
        "- 요소를 순서대로 정렬합니다.\n",
        "- 내부적으로 정렬하지 않고 **정렬된 복사본을 반환**합니다.\n",
        "- 즉 원본 데이터는 정렬되지 않습니다."
      ]
    },
    {
      "cell_type": "code",
      "metadata": {
        "id": "ed62pm5YcgXB"
      },
      "source": [
        "mylist = [1, 6, 3, 2, 7, 5, 4]\n",
        "mylist2 = sorted(mylist)\n",
        "mylist2"
      ],
      "execution_count": null,
      "outputs": []
    },
    {
      "cell_type": "code",
      "metadata": {
        "id": "xOh7qMeEcgXB"
      },
      "source": [
        "mylist"
      ],
      "execution_count": null,
      "outputs": []
    },
    {
      "cell_type": "markdown",
      "metadata": {
        "id": "q3TDyJrbcgXB"
      },
      "source": [
        "마찬가지로, `reverse=True`를 지정하여 역정렬할 수 있습니다."
      ]
    },
    {
      "cell_type": "code",
      "metadata": {
        "id": "NA3OFWdMcgXC"
      },
      "source": [
        "mylist = [1, 6, 3, 2, 7, 5, 4]\n",
        "sorted(mylist, reverse=True)"
      ],
      "execution_count": null,
      "outputs": []
    },
    {
      "cell_type": "markdown",
      "metadata": {
        "id": "Dx97KWki2JOq"
      },
      "source": [
        "### reverse() : 역정렬"
      ]
    },
    {
      "cell_type": "code",
      "metadata": {
        "id": "PiTJMwY1DR9e"
      },
      "source": [
        "mylist"
      ],
      "execution_count": null,
      "outputs": []
    },
    {
      "cell_type": "code",
      "metadata": {
        "id": "VGDfSJFADsRO"
      },
      "source": [
        "mylist.reverse()"
      ],
      "execution_count": null,
      "outputs": []
    },
    {
      "cell_type": "code",
      "metadata": {
        "id": "hU9A_WURDuMG"
      },
      "source": [
        "mylist"
      ],
      "execution_count": null,
      "outputs": []
    },
    {
      "cell_type": "code",
      "metadata": {
        "id": "S8C3nmHBEKZO"
      },
      "source": [
        "mylist[::-1]"
      ],
      "execution_count": null,
      "outputs": []
    },
    {
      "cell_type": "code",
      "metadata": {
        "id": "HEKGCsRnEURt"
      },
      "source": [
        "mylist"
      ],
      "execution_count": null,
      "outputs": []
    },
    {
      "cell_type": "markdown",
      "metadata": {
        "id": "QJ8NCnNbcgXC"
      },
      "source": [
        "### len() : 전체 항목의 개수 세기"
      ]
    },
    {
      "cell_type": "code",
      "metadata": {
        "id": "FaDoNkLLcgXC"
      },
      "source": [
        "mylist = [1, 6, 3, 2, 7, 5, 4]\n",
        "len(mylist)"
      ],
      "execution_count": null,
      "outputs": []
    },
    {
      "cell_type": "markdown",
      "metadata": {
        "id": "0U0bsd5W2TPk"
      },
      "source": [
        "### insert() : 값 추가"
      ]
    },
    {
      "cell_type": "markdown",
      "metadata": {
        "id": "k_rbdp2q2VoN"
      },
      "source": [
        "지정한 index에 값 추가"
      ]
    },
    {
      "cell_type": "code",
      "metadata": {
        "id": "Sz687uQGE0_t"
      },
      "source": [
        "mylist = [1, 6, 3, 2, 7, 5, 4]"
      ],
      "execution_count": null,
      "outputs": []
    },
    {
      "cell_type": "code",
      "metadata": {
        "id": "2iZQBTNXE2SH"
      },
      "source": [
        "mylist"
      ],
      "execution_count": null,
      "outputs": []
    },
    {
      "cell_type": "code",
      "metadata": {
        "id": "ftFR8PsbVOx0"
      },
      "source": [
        "mylist.insert(1, 100)"
      ],
      "execution_count": null,
      "outputs": []
    },
    {
      "cell_type": "code",
      "metadata": {
        "id": "mT1vjQoQEytu"
      },
      "source": [
        "mylist"
      ],
      "execution_count": null,
      "outputs": []
    },
    {
      "cell_type": "markdown",
      "metadata": {
        "id": "twBqWxkQ2j27"
      },
      "source": [
        "### remove() : 값 제거"
      ]
    },
    {
      "cell_type": "markdown",
      "metadata": {
        "id": "GFSPMzGn2ngJ"
      },
      "source": [
        "리스트에서 첫 번째 나오는 해당 값 삭제"
      ]
    },
    {
      "cell_type": "code",
      "metadata": {
        "id": "Dx28A1GMFC4D"
      },
      "source": [
        "mylist = [1, 2, 3, 4, 7, 7, 7, 6, 5]"
      ],
      "execution_count": null,
      "outputs": []
    },
    {
      "cell_type": "code",
      "metadata": {
        "id": "TsBOX9IHVRgU"
      },
      "source": [
        "mylist.remove(7)"
      ],
      "execution_count": null,
      "outputs": []
    },
    {
      "cell_type": "code",
      "metadata": {
        "id": "2IqkZq9r2xr2"
      },
      "source": [
        "mylist"
      ],
      "execution_count": null,
      "outputs": []
    },
    {
      "cell_type": "markdown",
      "metadata": {
        "id": "fDheQenM2yX3"
      },
      "source": [
        "### pop() : 요소 꺼내기"
      ]
    },
    {
      "cell_type": "markdown",
      "metadata": {
        "id": "Alg4teMF2_ym"
      },
      "source": [
        "x번째 요소를 돌려주고 해당 요소는 삭제"
      ]
    },
    {
      "cell_type": "code",
      "metadata": {
        "id": "kMKHxQhkFU91"
      },
      "source": [
        "mylist = [1, 2, 3, 4, 7, 7, 7, 6, 5]"
      ],
      "execution_count": null,
      "outputs": []
    },
    {
      "cell_type": "code",
      "metadata": {
        "id": "HFTjI5LLFW0N"
      },
      "source": [
        "mylist"
      ],
      "execution_count": null,
      "outputs": []
    },
    {
      "cell_type": "code",
      "metadata": {
        "id": "SAnoxn-l2431"
      },
      "source": [
        "mylist.pop(1)"
      ],
      "execution_count": null,
      "outputs": []
    },
    {
      "cell_type": "code",
      "metadata": {
        "id": "kETiPBoBFiYk"
      },
      "source": [
        "mylist"
      ],
      "execution_count": null,
      "outputs": []
    },
    {
      "cell_type": "markdown",
      "metadata": {
        "id": "V0N1pvlhcgXE"
      },
      "source": [
        "### del : 요소 삭제"
      ]
    },
    {
      "cell_type": "code",
      "metadata": {
        "id": "QrLwP1wLcgXE"
      },
      "source": [
        "mylist = [100, 200, 300, 400, 500]\n",
        "\n",
        "del mylist[1]\n",
        "print(mylist)\n",
        "\n",
        "del mylist[3]\n",
        "print(mylist)"
      ],
      "execution_count": null,
      "outputs": []
    },
    {
      "cell_type": "markdown",
      "metadata": {
        "id": "uz1LiSBZ3F0C"
      },
      "source": [
        "### count() : 갯수 세기"
      ]
    },
    {
      "cell_type": "code",
      "metadata": {
        "id": "XAI1jJ6d3Lp7"
      },
      "source": [
        "a = [1, 1, 1, 1, 1, 2, 2, 3]"
      ],
      "execution_count": null,
      "outputs": []
    },
    {
      "cell_type": "code",
      "metadata": {
        "id": "3nfuqjHB3Ojs"
      },
      "source": [
        "a.count(1)"
      ],
      "execution_count": null,
      "outputs": []
    },
    {
      "cell_type": "code",
      "metadata": {
        "id": "oJHVq8ev3P0_"
      },
      "source": [
        "a.count(2)"
      ],
      "execution_count": null,
      "outputs": []
    },
    {
      "cell_type": "code",
      "metadata": {
        "id": "jEoHgBm_3S5R"
      },
      "source": [
        "a.count(5)"
      ],
      "execution_count": null,
      "outputs": []
    },
    {
      "cell_type": "markdown",
      "metadata": {
        "id": "t2s6BnF_3W04"
      },
      "source": [
        "### extend() : 리스트 확장"
      ]
    },
    {
      "cell_type": "code",
      "metadata": {
        "id": "h9U2co-U3Ww1"
      },
      "source": [
        "a = [1, 2, 3]"
      ],
      "execution_count": null,
      "outputs": []
    },
    {
      "cell_type": "code",
      "metadata": {
        "id": "89lby2th3cn0"
      },
      "source": [
        "a.extend([4, 5])"
      ],
      "execution_count": null,
      "outputs": []
    },
    {
      "cell_type": "code",
      "metadata": {
        "id": "l72yuhjZ3Wri"
      },
      "source": [
        "a"
      ],
      "execution_count": null,
      "outputs": []
    },
    {
      "cell_type": "markdown",
      "metadata": {
        "id": "zYV3BI4zcgXG"
      },
      "source": [
        "`+` 연산자는 extend()와 동일한 기능을 수행합니다."
      ]
    },
    {
      "cell_type": "code",
      "metadata": {
        "id": "INJ26oUKcgXG"
      },
      "source": [
        "a = [1, 2, 3]\n",
        "a + [4, 5]"
      ],
      "execution_count": null,
      "outputs": []
    },
    {
      "cell_type": "markdown",
      "metadata": {
        "id": "fMAdPD_zkFZm"
      },
      "source": [
        "### 연습문제"
      ]
    },
    {
      "cell_type": "code",
      "metadata": {
        "id": "Kh3ZEKT0kIqA"
      },
      "source": [
        "movie = ['어벤져스', '아이언맨', '토르', '스파이더맨']"
      ],
      "execution_count": null,
      "outputs": []
    },
    {
      "cell_type": "markdown",
      "metadata": {
        "id": "tyOTHPsMkzCo"
      },
      "source": [
        "`movie`에 맨 끝에 `엑스맨` 을 추가하세요."
      ]
    },
    {
      "cell_type": "code",
      "metadata": {
        "id": "PKEtjNIvlBek"
      },
      "source": [
        "# 코드를 입력해 주세요\n"
      ],
      "execution_count": null,
      "outputs": []
    },
    {
      "cell_type": "markdown",
      "metadata": {
        "id": "IYdeyJyPcgXH"
      },
      "source": [
        "<p><strong>[출력 결과]</strong></p><pre>['어벤져스', '아이언맨', '토르', '스파이더맨', '엑스맨']</pre>"
      ]
    },
    {
      "cell_type": "markdown",
      "metadata": {
        "id": "iel_W4C6ofKa"
      },
      "source": [
        "`movie`의 1번 index에 `데드풀`을 추가하세요"
      ]
    },
    {
      "cell_type": "code",
      "metadata": {
        "id": "yGyNESOdorFN"
      },
      "source": [
        "# 코드를 입력해 주세요\n"
      ],
      "execution_count": null,
      "outputs": []
    },
    {
      "cell_type": "markdown",
      "metadata": {
        "id": "-M36NN9VcgXH"
      },
      "source": [
        "<p><strong>[출력 결과]</strong></p><pre>['어벤져스', '데드풀', '아이언맨', '토르', '스파이더맨', '엑스맨']</pre>"
      ]
    },
    {
      "cell_type": "markdown",
      "metadata": {
        "id": "SyMuSUDFlICP"
      },
      "source": [
        "`movie`에서 `아이언맨`을 삭제 하세요.\n",
        "\n",
        "- remove() 사용"
      ]
    },
    {
      "cell_type": "code",
      "metadata": {
        "id": "y95NJRYSlQJb"
      },
      "source": [
        "# 코드를 입력해 주세요\n"
      ],
      "execution_count": null,
      "outputs": []
    },
    {
      "cell_type": "markdown",
      "metadata": {
        "id": "6gPuUw05cgXH"
      },
      "source": [
        "<p><strong>[출력 결과]</strong></p><pre>['어벤져스', '데드풀', '토르', '스파이더맨', '엑스맨']</pre>"
      ]
    },
    {
      "cell_type": "markdown",
      "metadata": {
        "id": "iL1uUEihcgXI"
      },
      "source": [
        "`movie`에서 1번째 index를 삭제하세요"
      ]
    },
    {
      "cell_type": "code",
      "metadata": {
        "id": "qwkIw2cgcgXI"
      },
      "source": [
        "# 코드를 입력해 주세요\n"
      ],
      "execution_count": null,
      "outputs": []
    },
    {
      "cell_type": "markdown",
      "metadata": {
        "id": "tTQQ1qwccgXI"
      },
      "source": [
        "<p><strong>[출력 결과]</strong></p><pre>['어벤져스', '토르', '스파이더맨', '엑스맨']</pre>"
      ]
    },
    {
      "cell_type": "code",
      "metadata": {
        "id": "6aQemYcxcgXI"
      },
      "source": [
        "kr_movie = ['승리호', '신세계', '타짜']"
      ],
      "execution_count": null,
      "outputs": []
    },
    {
      "cell_type": "markdown",
      "metadata": {
        "id": "T4D9uE4EcgXI"
      },
      "source": [
        "`kr_movie`를 `movie`에 추가해 주세요"
      ]
    },
    {
      "cell_type": "code",
      "metadata": {
        "id": "-rMGPjTIcgXI"
      },
      "source": [
        "# 코드를 입력해 주세요\n"
      ],
      "execution_count": null,
      "outputs": []
    },
    {
      "cell_type": "markdown",
      "metadata": {
        "id": "_X_rL5kXcgXJ"
      },
      "source": [
        "<p><strong>[출력 결과]</strong></p><pre>['어벤져스', '토르', '스파이더맨', '엑스맨', '승리호', '신세계', '타짜']</pre>"
      ]
    },
    {
      "cell_type": "markdown",
      "metadata": {
        "id": "oykgqKmgcgXJ"
      },
      "source": [
        "`movie`를 가나다 순으로 정렬하세요"
      ]
    },
    {
      "cell_type": "code",
      "metadata": {
        "id": "VzlmuxO2cgXJ"
      },
      "source": [
        "# 코드를 입력해 주세요\n"
      ],
      "execution_count": null,
      "outputs": []
    },
    {
      "cell_type": "markdown",
      "metadata": {
        "id": "nxA8-WMDcgXJ"
      },
      "source": [
        "<p><strong>[출력 결과]</strong></p><pre>['스파이더맨', '승리호', '신세계', '어벤져스', '엑스맨', '타짜', '토르']</pre>"
      ]
    },
    {
      "cell_type": "markdown",
      "metadata": {
        "id": "k0w9nYxPWSNO"
      },
      "source": [
        "### 인덱싱(indexing): 색인"
      ]
    },
    {
      "cell_type": "code",
      "metadata": {
        "id": "qY6rAQpWW5Pr"
      },
      "source": [
        "mylist = [1, 2, 3, 4]"
      ],
      "execution_count": null,
      "outputs": []
    },
    {
      "cell_type": "markdown",
      "metadata": {
        "id": "l9ad4C1XW9KE"
      },
      "source": [
        "인덱스는 **0번 부터 시작** 합니다."
      ]
    },
    {
      "cell_type": "code",
      "metadata": {
        "id": "nxGtMBuUWSXd"
      },
      "source": [
        "mylist[0]"
      ],
      "execution_count": null,
      "outputs": []
    },
    {
      "cell_type": "code",
      "metadata": {
        "id": "bQQaTXemXDk-"
      },
      "source": [
        "mylist[3]"
      ],
      "execution_count": null,
      "outputs": []
    },
    {
      "cell_type": "code",
      "metadata": {
        "id": "GtO0YS9HXDe7"
      },
      "source": [
        "mylist[4]"
      ],
      "execution_count": null,
      "outputs": []
    },
    {
      "cell_type": "markdown",
      "metadata": {
        "id": "gx3q3lpGBfI2"
      },
      "source": [
        "### 역순 인덱싱\n",
        "\n",
        "파이썬은 음수 인덱싱을 지원합니다."
      ]
    },
    {
      "cell_type": "code",
      "metadata": {
        "id": "jJbfxm9TKRMJ"
      },
      "source": [
        "mylist"
      ],
      "execution_count": null,
      "outputs": []
    },
    {
      "cell_type": "code",
      "metadata": {
        "id": "OPtminJaBZCg"
      },
      "source": [
        "mylist[-1]"
      ],
      "execution_count": null,
      "outputs": []
    },
    {
      "cell_type": "code",
      "metadata": {
        "id": "PuCoYHPEBbve"
      },
      "source": [
        "mylist[-3]"
      ],
      "execution_count": null,
      "outputs": []
    },
    {
      "cell_type": "code",
      "metadata": {
        "id": "dvsC2y9hXDYq"
      },
      "source": [
        "mylist[-5]"
      ],
      "execution_count": null,
      "outputs": []
    },
    {
      "cell_type": "markdown",
      "metadata": {
        "id": "TZEqteGEXtJZ"
      },
      "source": [
        "### 인덱스로 접근하여 값 바꾸기"
      ]
    },
    {
      "cell_type": "code",
      "metadata": {
        "id": "WndBOK7DXwqk"
      },
      "source": [
        "mylist = [1, 2, 3, 4, 5]\n",
        "mylist"
      ],
      "execution_count": null,
      "outputs": []
    },
    {
      "cell_type": "code",
      "metadata": {
        "id": "qVZF6qydXyQa"
      },
      "source": [
        "mylist[0]"
      ],
      "execution_count": null,
      "outputs": []
    },
    {
      "cell_type": "code",
      "metadata": {
        "id": "0CUByTZgX1yF"
      },
      "source": [
        "mylist[0] = 100"
      ],
      "execution_count": null,
      "outputs": []
    },
    {
      "cell_type": "code",
      "metadata": {
        "id": "p841RzROX4C4"
      },
      "source": [
        "mylist"
      ],
      "execution_count": null,
      "outputs": []
    },
    {
      "cell_type": "code",
      "metadata": {
        "id": "O_VdrWZCBxiT"
      },
      "source": [
        "mylist[-1] = 300"
      ],
      "execution_count": null,
      "outputs": []
    },
    {
      "cell_type": "code",
      "metadata": {
        "id": "kLL0oa0GB0D9"
      },
      "source": [
        "mylist"
      ],
      "execution_count": null,
      "outputs": []
    },
    {
      "cell_type": "markdown",
      "metadata": {
        "id": "oMoED0ZjCiuJ"
      },
      "source": [
        "### 중첩된 리스트 인덱싱\n",
        "\n",
        "중첩된 리스트에 대한 리스트는 중첩 인덱싱으로 접근합니다. 값을 변경하는 것도 가능합니다."
      ]
    },
    {
      "cell_type": "code",
      "metadata": {
        "id": "7zq8_J2VCk1K"
      },
      "source": [
        "mylist = [['가', '나', '다'], [4, 5, 6], 7, 8, 9]"
      ],
      "execution_count": null,
      "outputs": []
    },
    {
      "cell_type": "code",
      "metadata": {
        "id": "atfiWonnCps3"
      },
      "source": [
        "mylist"
      ],
      "execution_count": null,
      "outputs": []
    },
    {
      "cell_type": "markdown",
      "metadata": {
        "id": "A_B6DNx0cgXM"
      },
      "source": [
        "1 번째 리스트 요소를 가져옵니다."
      ]
    },
    {
      "cell_type": "code",
      "metadata": {
        "id": "yaa8MwGFCydQ"
      },
      "source": [
        "mylist[1]"
      ],
      "execution_count": null,
      "outputs": []
    },
    {
      "cell_type": "markdown",
      "metadata": {
        "id": "ijnFOY_FcgXM"
      },
      "source": [
        "1번째 리스트의 요소 중 1번째 요소를 가져오기 위해서는 중첩 인덱싱으로 접근합니다."
      ]
    },
    {
      "cell_type": "code",
      "metadata": {
        "id": "MeunbeUJCqwG"
      },
      "source": [
        "mylist[1][1]"
      ],
      "execution_count": null,
      "outputs": []
    },
    {
      "cell_type": "code",
      "metadata": {
        "id": "eJ2WkRQHcgXN"
      },
      "source": [
        "mylist[1][1] = 99"
      ],
      "execution_count": null,
      "outputs": []
    },
    {
      "cell_type": "code",
      "metadata": {
        "id": "svKqsaMAcgXN"
      },
      "source": [
        "mylist"
      ],
      "execution_count": null,
      "outputs": []
    },
    {
      "cell_type": "markdown",
      "metadata": {
        "id": "Lk3yqujcB17e"
      },
      "source": [
        "### 슬라이싱(Slicing): 범위 추출\n",
        "\n",
        "- 슬라이싱의 활용: [start:stop:step] 을 명시하여 부분을 추출할 수 있습니다."
      ]
    },
    {
      "cell_type": "code",
      "metadata": {
        "id": "Lt-oJ8cyB8cg"
      },
      "source": [
        "mylist = [100, 200, 300, 400, 500]"
      ],
      "execution_count": null,
      "outputs": []
    },
    {
      "cell_type": "markdown",
      "metadata": {
        "id": "3uetfPWRcgXN"
      },
      "source": [
        "[:]을 활용하여 전체를 추출할 수 있습니다."
      ]
    },
    {
      "cell_type": "code",
      "metadata": {
        "id": "LlxZGt5ScgXN"
      },
      "source": [
        "mylist[:]"
      ],
      "execution_count": null,
      "outputs": []
    },
    {
      "cell_type": "markdown",
      "metadata": {
        "id": "ZZUcYYADcgXO"
      },
      "source": [
        "[start:]는 시작 index 부터 끝까지 추출합니다."
      ]
    },
    {
      "cell_type": "code",
      "metadata": {
        "id": "d_gcUsl-cgXO"
      },
      "source": [
        "mylist[2:]"
      ],
      "execution_count": null,
      "outputs": []
    },
    {
      "cell_type": "code",
      "metadata": {
        "id": "gj-I9-Y8cgXO"
      },
      "source": [
        "mylist[-3:]"
      ],
      "execution_count": null,
      "outputs": []
    },
    {
      "cell_type": "markdown",
      "metadata": {
        "id": "ortJeJu2cgXO"
      },
      "source": [
        "[:end]는 처음부터 end 전까지 추출합니다."
      ]
    },
    {
      "cell_type": "code",
      "metadata": {
        "id": "YetcbGj3cgXO"
      },
      "source": [
        "mylist[:3]"
      ],
      "execution_count": null,
      "outputs": []
    },
    {
      "cell_type": "markdown",
      "metadata": {
        "id": "CYTO8yWucgXP"
      },
      "source": [
        "[start:end]는 start부터 end 전까지 추출합니다."
      ]
    },
    {
      "cell_type": "code",
      "metadata": {
        "id": "rav_w8CYB5Pn"
      },
      "source": [
        "mylist[1:3]"
      ],
      "execution_count": null,
      "outputs": []
    },
    {
      "cell_type": "code",
      "metadata": {
        "id": "1VfFQEdMB7Kc"
      },
      "source": [
        "mylist[-3: -1]"
      ],
      "execution_count": null,
      "outputs": []
    },
    {
      "cell_type": "markdown",
      "metadata": {
        "id": "Opa0KIuJcgXP"
      },
      "source": [
        "## 연습문제"
      ]
    },
    {
      "cell_type": "code",
      "metadata": {
        "id": "vZtzFJtOlQGA"
      },
      "source": [
        "fruit = ['사과', '바나나', '파인애플', '배', '수박', '키위', '오렌지', '망고', '딸기']"
      ],
      "execution_count": null,
      "outputs": []
    },
    {
      "cell_type": "markdown",
      "metadata": {
        "id": "ZO9-b0FXlQB_"
      },
      "source": [
        "list **인덱싱** & **슬라이싱**을 사용하여 다음과 같이 출력 하세요"
      ]
    },
    {
      "cell_type": "code",
      "metadata": {
        "id": "ag-1JlpllPyM"
      },
      "source": [
        "# 코드를 입력해 주세요\n"
      ],
      "execution_count": null,
      "outputs": []
    },
    {
      "cell_type": "markdown",
      "metadata": {
        "id": "UEzyWXpUcgXQ"
      },
      "source": [
        "<p><strong>[출력 결과]</strong></p><pre>['파인애플', '배', '수박']</pre>"
      ]
    },
    {
      "cell_type": "code",
      "metadata": {
        "id": "0LRqKruin8YG"
      },
      "source": [
        "# 코드를 입력해 주세요\n"
      ],
      "execution_count": null,
      "outputs": []
    },
    {
      "cell_type": "markdown",
      "metadata": {
        "id": "AZjXRFb9cgXQ"
      },
      "source": [
        "<p><strong>[출력 결과]</strong></p><pre>['망고', '딸기']</pre>"
      ]
    },
    {
      "cell_type": "code",
      "metadata": {
        "id": "M2FntdLxoCN4"
      },
      "source": [
        "# 코드를 입력해 주세요\n"
      ],
      "execution_count": null,
      "outputs": []
    },
    {
      "cell_type": "markdown",
      "metadata": {
        "id": "DBG4Ck9mcgXQ"
      },
      "source": [
        "<p><strong>[출력 결과]</strong></p><pre>['사과', '바나나', '파인애플']</pre>"
      ]
    },
    {
      "cell_type": "code",
      "metadata": {
        "id": "8tdoEreLoC7Y"
      },
      "source": [
        "# 코드를 입력해 주세요\n"
      ],
      "execution_count": null,
      "outputs": []
    },
    {
      "cell_type": "markdown",
      "metadata": {
        "id": "uYLnKSHvcgXR"
      },
      "source": [
        "<p><strong>[출력 결과]</strong></p><pre>['배', '수박', '키위', '오렌지', '망고', '딸기']</pre>"
      ]
    },
    {
      "cell_type": "markdown",
      "metadata": {
        "id": "yW2psuKpcgXR"
      },
      "source": [
        "## indexing 에 step 활용하기\n",
        "\n",
        "list[start:stop:step]\n",
        "\n",
        "- step은 몇 칸씩 건너 뛰는지 지정합니다."
      ]
    },
    {
      "cell_type": "code",
      "metadata": {
        "id": "9rOT3phDcgXR"
      },
      "source": [
        "mylist = [100, 200, 300, 400, 500]"
      ],
      "execution_count": null,
      "outputs": []
    },
    {
      "cell_type": "markdown",
      "metadata": {
        "id": "g1WagDZIcgXR"
      },
      "source": [
        "**2칸**씩 건너뛰기"
      ]
    },
    {
      "cell_type": "code",
      "metadata": {
        "id": "D4g325mkcgXR"
      },
      "source": [
        "mylist[::2]"
      ],
      "execution_count": null,
      "outputs": []
    },
    {
      "cell_type": "markdown",
      "metadata": {
        "id": "d8PbS7H_cgXR"
      },
      "source": [
        "**역순** 출력"
      ]
    },
    {
      "cell_type": "code",
      "metadata": {
        "id": "gLiZA4VEcgXU"
      },
      "source": [
        "mylist[::-1]"
      ],
      "execution_count": null,
      "outputs": []
    },
    {
      "cell_type": "markdown",
      "metadata": {
        "id": "PTCF7gc6cgXV"
      },
      "source": [
        "역순 그리고 **2칸씩** 건너뛰기"
      ]
    },
    {
      "cell_type": "code",
      "metadata": {
        "id": "EHWHi-3tcgXV"
      },
      "source": [
        "mylist[::-2]"
      ],
      "execution_count": null,
      "outputs": []
    },
    {
      "cell_type": "code",
      "metadata": {
        "id": "30jcpRxINKBM"
      },
      "source": [
        "mylist"
      ],
      "execution_count": null,
      "outputs": []
    },
    {
      "cell_type": "code",
      "metadata": {
        "id": "U_ntjhL8NEA4"
      },
      "source": [
        "mylist[1::2]"
      ],
      "execution_count": null,
      "outputs": []
    },
    {
      "cell_type": "code",
      "metadata": {
        "id": "Cvi-e1PKNLz_"
      },
      "source": [
        "mylist[-2::-2]"
      ],
      "execution_count": null,
      "outputs": []
    },
    {
      "cell_type": "markdown",
      "metadata": {
        "id": "ptw8hALtmcIY"
      },
      "source": [
        "### list 덧셈: list 확장"
      ]
    },
    {
      "cell_type": "code",
      "metadata": {
        "id": "6AY5OCBUmm6W"
      },
      "source": [
        "a = [1, 2, 3, 4]\n",
        "b = [5, 6, 7, 8]"
      ],
      "execution_count": null,
      "outputs": []
    },
    {
      "cell_type": "code",
      "metadata": {
        "id": "Vh4kSzvimpSM"
      },
      "source": [
        "a + b"
      ],
      "execution_count": null,
      "outputs": []
    },
    {
      "cell_type": "code",
      "metadata": {
        "id": "lmDtkjFWcgXV"
      },
      "source": [
        "a = ['a', 'b', 'c']\n",
        "b = ['d', 'e', 'f']"
      ],
      "execution_count": null,
      "outputs": []
    },
    {
      "cell_type": "code",
      "metadata": {
        "id": "Nd7plO0ecgXW"
      },
      "source": [
        "a + b"
      ],
      "execution_count": null,
      "outputs": []
    },
    {
      "cell_type": "markdown",
      "metadata": {
        "id": "kd8wNXq-cgXW"
      },
      "source": [
        "### list 곱셈: list 반복"
      ]
    },
    {
      "cell_type": "code",
      "metadata": {
        "id": "p3T5v4W-cgXW"
      },
      "source": [
        "a = ['a', 'b', 'c']\n",
        "b = [1, 2, 3, 4]"
      ],
      "execution_count": null,
      "outputs": []
    },
    {
      "cell_type": "code",
      "metadata": {
        "id": "RHkI26zzm0Jm"
      },
      "source": [
        "a * 2"
      ],
      "execution_count": null,
      "outputs": []
    },
    {
      "cell_type": "code",
      "metadata": {
        "id": "aKslp1d_myjj"
      },
      "source": [
        "b * 3"
      ],
      "execution_count": null,
      "outputs": []
    },
    {
      "cell_type": "code",
      "metadata": {
        "id": "NP22dxkCNyqr"
      },
      "source": [
        "a * b"
      ],
      "execution_count": null,
      "outputs": []
    },
    {
      "cell_type": "markdown",
      "metadata": {
        "id": "KU1npbc5cgXW"
      },
      "source": [
        "### 연습문제 1\n",
        "\n",
        "sample = [1, 3, 5, 4, 2] 리스트를 슬라이싱을 이용하여 [2, 4, 5, 3, 1]로 출력하세요"
      ]
    },
    {
      "cell_type": "code",
      "metadata": {
        "id": "mHYYlteecgXW"
      },
      "source": [
        "sample = [1, 3, 5, 4, 2]"
      ],
      "execution_count": null,
      "outputs": []
    },
    {
      "cell_type": "markdown",
      "metadata": {
        "id": "N0L-K4eycgXX"
      },
      "source": [
        "슬라이싱을 사용해 다음과 같이 출력해 주세요"
      ]
    },
    {
      "cell_type": "code",
      "metadata": {
        "id": "zQdd3ZJfcgXX"
      },
      "source": [
        "# 코드를 입력해 주세요\n"
      ],
      "execution_count": null,
      "outputs": []
    },
    {
      "cell_type": "markdown",
      "metadata": {
        "id": "1sKjKkzAcgXX"
      },
      "source": [
        "<p><strong>[출력 결과]</strong></p><pre>[2, 4, 5, 3, 1]</pre>"
      ]
    },
    {
      "cell_type": "markdown",
      "metadata": {
        "id": "1OvEx4SkcgXX"
      },
      "source": [
        "슬라이싱을 사용해 다음과 같이 출력해 주세요"
      ]
    },
    {
      "cell_type": "code",
      "metadata": {
        "id": "lJA3FlducgXX"
      },
      "source": [
        "# 코드를 입력해 주세요\n"
      ],
      "execution_count": null,
      "outputs": []
    },
    {
      "cell_type": "markdown",
      "metadata": {
        "id": "Mgj141MQcgXX"
      },
      "source": [
        "<p><strong>[출력 결과]</strong></p><pre>[1, 5, 2]</pre>"
      ]
    },
    {
      "cell_type": "markdown",
      "metadata": {
        "id": "c3BUSj2ncgXY"
      },
      "source": [
        "슬라이싱을 사용해 다음과 같이 출력해 주세요"
      ]
    },
    {
      "cell_type": "code",
      "metadata": {
        "id": "_ykHb6H0cgXY"
      },
      "source": [
        "# 코드를 입력해 주세요\n"
      ],
      "execution_count": null,
      "outputs": []
    },
    {
      "cell_type": "markdown",
      "metadata": {
        "id": "1pkSppmUcgXY"
      },
      "source": [
        "<p><strong>[출력 결과]</strong></p><pre>[5, 1]</pre>"
      ]
    },
    {
      "cell_type": "markdown",
      "metadata": {
        "id": "0_mJjKgJ3PXj"
      },
      "source": [
        "### 연습문제 2\n",
        "\n",
        "- 아래의 값을 저장하고 있는 `myList` 변수를 생성하세요.\n",
        "- [[1,2,3],[4,5,6],[7,8]]"
      ]
    },
    {
      "cell_type": "code",
      "metadata": {
        "id": "cYw8v3Wc3PXj"
      },
      "source": [
        "myList = [[1,2,3],[4,5,6],[7,8]]\n",
        "myList"
      ],
      "execution_count": null,
      "outputs": []
    },
    {
      "cell_type": "markdown",
      "metadata": {
        "id": "huln3pHGqluk"
      },
      "source": [
        "- 9를 `myList`에 추가하여 아래의 값을 저장할 수 있도록 하세요.\n",
        "    - [[1,2,3],[4,5,6],[7,8,9]]"
      ]
    },
    {
      "cell_type": "code",
      "metadata": {
        "id": "fQwG-KLiq_Aq"
      },
      "source": [
        "# 코드를 입력해 주세요\n"
      ],
      "execution_count": null,
      "outputs": []
    },
    {
      "cell_type": "markdown",
      "metadata": {
        "id": "RTzDXq3ZcgXZ"
      },
      "source": [
        "<p><strong>[출력 결과]</strong></p><pre>[[1, 2, 3], [4, 5, 6], [7, 8, 9]]</pre>"
      ]
    },
    {
      "cell_type": "markdown",
      "metadata": {
        "id": "6f1LiPaaWA6a"
      },
      "source": [
        "## 튜플(tuple)\n",
        "\n",
        "- 리스트(list)는 가변(mutable)하는 객체(object)이지만, **튜플(tuple)은 불변(immutable)한 객체**입니다.\n",
        "- 가변 객체는 요소에 대한 수정, 삭제, 변경 등이 가능하지만, 불편 객체는 **요소에 대한 수정, 삭제, 변경이 불가**합니다."
      ]
    },
    {
      "cell_type": "markdown",
      "metadata": {
        "id": "NKvYG65EDCQg"
      },
      "source": [
        "### 생성\n",
        "\n",
        "- tuple(), () 로 생성합니다.\n",
        "- 혹은 , 로 생성할 수 있습니다."
      ]
    },
    {
      "cell_type": "markdown",
      "metadata": {
        "id": "n1EYdsblcgXZ"
      },
      "source": [
        "**()로 튜플을 생성**할 수 있습니다."
      ]
    },
    {
      "cell_type": "code",
      "metadata": {
        "id": "Lj0AaIGkWMng"
      },
      "source": [
        "mytuple = (1, 2, 3)\n",
        "mytuple"
      ],
      "execution_count": null,
      "outputs": []
    },
    {
      "cell_type": "markdown",
      "metadata": {
        "id": "MLL_VBvEcgXZ"
      },
      "source": [
        "**tuple()** 로 생성하는 경우"
      ]
    },
    {
      "cell_type": "code",
      "metadata": {
        "id": "kIfJ2eCcDnSH"
      },
      "source": [
        "mytuple = tuple([1, 2, 3])\n",
        "mytuple"
      ],
      "execution_count": null,
      "outputs": []
    },
    {
      "cell_type": "markdown",
      "metadata": {
        "id": "tMa93r1JcgXa"
      },
      "source": [
        "**, 로 생성**할 수 있습니다."
      ]
    },
    {
      "cell_type": "code",
      "metadata": {
        "id": "iicUD1x0DHu6"
      },
      "source": [
        "mytuple = 1, 2, 3\n",
        "mytuple"
      ],
      "execution_count": null,
      "outputs": []
    },
    {
      "cell_type": "markdown",
      "metadata": {
        "id": "3S5MtEDScgXa"
      },
      "source": [
        "**단일 요소를 생성**할 때는 반드시 ,를 붙여 줍니다.\n",
        "- (1,)과 (1)은 다른 자료구조임을 꼭 알고 있어야 합니다."
      ]
    },
    {
      "cell_type": "code",
      "metadata": {
        "id": "VvZXlmRncgXa"
      },
      "source": [
        "mytuple = 1,\n",
        "print(type(mytuple))\n",
        "mytuple"
      ],
      "execution_count": null,
      "outputs": []
    },
    {
      "cell_type": "code",
      "metadata": {
        "id": "HrRr2fKMDL2E"
      },
      "source": [
        "mytuple = (1,)\n",
        "print(type(mytuple))\n",
        "mytuple"
      ],
      "execution_count": null,
      "outputs": []
    },
    {
      "cell_type": "code",
      "metadata": {
        "id": "7ZlannGQcgXa"
      },
      "source": [
        "mytuple = (1)\n",
        "print(type(mytuple))\n",
        "mytuple"
      ],
      "execution_count": null,
      "outputs": []
    },
    {
      "cell_type": "markdown",
      "metadata": {
        "id": "M11I_rnUcgXb"
      },
      "source": [
        "**튜플 언패킹(unpacking)**\n",
        "- 튜플로 한 번에 **여러 변수에 값을 한 번에 할당**할 수 있습니다."
      ]
    },
    {
      "cell_type": "code",
      "metadata": {
        "id": "cRUNDQHYcgXb"
      },
      "source": [
        "a = 1, 2, 3\n",
        "\n",
        "print(a)\n",
        "# print(b)\n",
        "# print(c)"
      ],
      "execution_count": null,
      "outputs": []
    },
    {
      "cell_type": "markdown",
      "metadata": {
        "id": "fbWL3rXvDZou"
      },
      "source": [
        "### 튜플 자료형은 요소의 추가, 삭제, 변경등을 허용하지 않습니다."
      ]
    },
    {
      "cell_type": "code",
      "metadata": {
        "id": "3TBwbkblcgXb"
      },
      "source": [
        "mytuple = (1, 2, 3)\n",
        "mytuple"
      ],
      "execution_count": null,
      "outputs": []
    },
    {
      "cell_type": "markdown",
      "metadata": {
        "id": "57vPUsS9cgXb"
      },
      "source": [
        "요소를 **조회하는 것은 가능**합니다."
      ]
    },
    {
      "cell_type": "code",
      "metadata": {
        "id": "ZbVjb4x7cgXb"
      },
      "source": [
        "mytuple[1]"
      ],
      "execution_count": null,
      "outputs": []
    },
    {
      "cell_type": "markdown",
      "metadata": {
        "id": "axOh9930cgXc"
      },
      "source": [
        "요소를 **변경**하려는 경우"
      ]
    },
    {
      "cell_type": "code",
      "metadata": {
        "id": "OjCMaaYPcgXc"
      },
      "source": [
        "mytuple[1] = 100"
      ],
      "execution_count": null,
      "outputs": []
    },
    {
      "cell_type": "markdown",
      "metadata": {
        "id": "c24tbnf9cgXc"
      },
      "source": [
        "요소를 **삭제**하려는 경우"
      ]
    },
    {
      "cell_type": "code",
      "metadata": {
        "id": "I2JlBRg8DyLx"
      },
      "source": [
        "del mytuple[1]"
      ],
      "execution_count": null,
      "outputs": []
    },
    {
      "cell_type": "markdown",
      "metadata": {
        "id": "wJxLyKDGD1Re"
      },
      "source": [
        "### 튜플 덧셈: 튜플의 확장"
      ]
    },
    {
      "cell_type": "code",
      "metadata": {
        "id": "ScZhykwwD7AM"
      },
      "source": [
        "a = (1, 2)\n",
        "b = (3, 4)"
      ],
      "execution_count": null,
      "outputs": []
    },
    {
      "cell_type": "code",
      "metadata": {
        "id": "kL1Qav45D-gm"
      },
      "source": [
        "a + b"
      ],
      "execution_count": null,
      "outputs": []
    },
    {
      "cell_type": "markdown",
      "metadata": {
        "id": "xLhCaMwVcgXd"
      },
      "source": [
        "### 튜플 곱셈: 튜플의 반복"
      ]
    },
    {
      "cell_type": "code",
      "metadata": {
        "id": "UN5cWiqWEAqX"
      },
      "source": [
        "a * 3"
      ],
      "execution_count": null,
      "outputs": []
    },
    {
      "cell_type": "code",
      "metadata": {
        "id": "wluSgekA9ZT7"
      },
      "source": [
        "a * 10"
      ],
      "execution_count": null,
      "outputs": []
    },
    {
      "cell_type": "markdown",
      "metadata": {
        "id": "PhwymGjaXqwU"
      },
      "source": [
        "### 길이 파악하기"
      ]
    },
    {
      "cell_type": "code",
      "metadata": {
        "id": "NKr8ATCHcgXd"
      },
      "source": [
        "mytuple"
      ],
      "execution_count": null,
      "outputs": []
    },
    {
      "cell_type": "code",
      "metadata": {
        "id": "q52SzZNOYIo1"
      },
      "source": [
        "len(mytuple)"
      ],
      "execution_count": null,
      "outputs": []
    },
    {
      "cell_type": "markdown",
      "metadata": {
        "id": "BJ_ejBsNJH6N"
      },
      "source": [
        "### list를 tuple로 변환"
      ]
    },
    {
      "cell_type": "code",
      "metadata": {
        "id": "d4syeAlRJU2F"
      },
      "source": [
        "a = [1, 2, 3, 4]"
      ],
      "execution_count": null,
      "outputs": []
    },
    {
      "cell_type": "code",
      "metadata": {
        "id": "aAiFPz4EJWUg"
      },
      "source": [
        "a"
      ],
      "execution_count": null,
      "outputs": []
    },
    {
      "cell_type": "code",
      "metadata": {
        "id": "k2yM_D3nJWsJ"
      },
      "source": [
        "type(a)"
      ],
      "execution_count": null,
      "outputs": []
    },
    {
      "cell_type": "code",
      "metadata": {
        "id": "C1XzVIOkJXH_"
      },
      "source": [
        "b = tuple(a)"
      ],
      "execution_count": null,
      "outputs": []
    },
    {
      "cell_type": "code",
      "metadata": {
        "id": "nNNg1n1xJYvq"
      },
      "source": [
        "b"
      ],
      "execution_count": null,
      "outputs": []
    },
    {
      "cell_type": "code",
      "metadata": {
        "id": "-FGh_AhJJZAk"
      },
      "source": [
        "type(b)"
      ],
      "execution_count": null,
      "outputs": []
    },
    {
      "cell_type": "markdown",
      "metadata": {
        "id": "5T0yhUiiJZuK"
      },
      "source": [
        "### tuple을 list로 변환"
      ]
    },
    {
      "cell_type": "code",
      "metadata": {
        "id": "0OZ27hGpJdGi"
      },
      "source": [
        "a = (1, 2, 3, 4)"
      ],
      "execution_count": null,
      "outputs": []
    },
    {
      "cell_type": "code",
      "metadata": {
        "id": "47vB7lQLJeSI"
      },
      "source": [
        "a"
      ],
      "execution_count": null,
      "outputs": []
    },
    {
      "cell_type": "code",
      "metadata": {
        "id": "fJpB20awJesL"
      },
      "source": [
        "type(a)"
      ],
      "execution_count": null,
      "outputs": []
    },
    {
      "cell_type": "code",
      "metadata": {
        "id": "oYserJFQJf51"
      },
      "source": [
        "b = list(a)"
      ],
      "execution_count": null,
      "outputs": []
    },
    {
      "cell_type": "code",
      "metadata": {
        "id": "P_zDoI-GJidd"
      },
      "source": [
        "b"
      ],
      "execution_count": null,
      "outputs": []
    },
    {
      "cell_type": "code",
      "metadata": {
        "id": "jtPRpCOHJjDI"
      },
      "source": [
        "type(b)"
      ],
      "execution_count": null,
      "outputs": []
    },
    {
      "cell_type": "markdown",
      "metadata": {
        "id": "zJjaYs4lcgXg"
      },
      "source": [
        "리스트로 type을 변경하였기 때문에 **요소의 추가 및 삭제가 가능**합니다."
      ]
    },
    {
      "cell_type": "code",
      "metadata": {
        "id": "e6STgfp_Jjl9"
      },
      "source": [
        "b.append(5)\n",
        "b"
      ],
      "execution_count": null,
      "outputs": []
    },
    {
      "cell_type": "code",
      "metadata": {
        "id": "37W8x7KHcgXg"
      },
      "source": [
        "b.remove(2)\n",
        "b"
      ],
      "execution_count": null,
      "outputs": []
    },
    {
      "cell_type": "markdown",
      "metadata": {
        "id": "nM2jqV66cgXg"
      },
      "source": [
        "요소를 추가 및 삭제한 후 **다시 tuple로 변경**할 수 있습니다."
      ]
    },
    {
      "cell_type": "code",
      "metadata": {
        "id": "T7k1LgovJl5y"
      },
      "source": [
        "c = tuple(b)"
      ],
      "execution_count": null,
      "outputs": []
    },
    {
      "cell_type": "code",
      "metadata": {
        "id": "brUnfV5fJm_u"
      },
      "source": [
        "c"
      ],
      "execution_count": null,
      "outputs": []
    },
    {
      "cell_type": "code",
      "metadata": {
        "id": "GfEFncbkJoRw"
      },
      "source": [
        "type(c)"
      ],
      "execution_count": null,
      "outputs": []
    },
    {
      "cell_type": "markdown",
      "metadata": {
        "id": "-mx0TG2lcgXh"
      },
      "source": [
        "### 연습문제"
      ]
    },
    {
      "cell_type": "markdown",
      "metadata": {
        "id": "NmCDNaS2cgXh"
      },
      "source": [
        "주어진 tuple `a`를 (1, 100, 2, 3, 4)의 요소를 가지도록 변경해 주세요"
      ]
    },
    {
      "cell_type": "code",
      "metadata": {
        "id": "8_NJGIbNcgXi"
      },
      "source": [
        "a = (1, 2, 3, 4)"
      ],
      "execution_count": null,
      "outputs": []
    },
    {
      "cell_type": "code",
      "metadata": {
        "id": "K4mx6nEqcgXi"
      },
      "source": [
        "# 코드를 입력해 주세요\n"
      ],
      "execution_count": null,
      "outputs": []
    },
    {
      "cell_type": "markdown",
      "metadata": {
        "id": "LhVzPi6icgXi"
      },
      "source": [
        "<p><strong>[출력 결과]</strong></p><pre>(1, 100, 2, 3, 4)</pre>"
      ]
    }
  ]
}